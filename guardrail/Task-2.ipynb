{
 "cells": [
  {
   "cell_type": "markdown",
   "metadata": {},
   "source": [
    "# Task 2: Build a Q&A application using Amazon Bedrock Knowledge Bases with Retrieve API\n",
    "\n",
    "In this task, you build a Q&A application using Amazon Bedrock Knowledge Bases with *Retrieve* API. Here, you query the knowledge base to get the desired number of document chunks based on similarity search. You then augment the prompt with relevant documents and perform a query which acts as input to Anthropic Claude for generating response.\n",
    "\n",
    "With a knowledge base, you can securely connect foundation models (FMs) in Amazon Bedrock to your company's data for Retrieval Augmented Generation (RAG). Access to additional data helps the model generate more relevant, context-specific and accurate responses without continuously retraining the FM. All information retrieved from knowledge bases comes with source attribution to improve transparency and minimize hallucinations.\n",
    "\n",
    "<i aria-hidden=\"true\" class=\"fas fa-info-circle\" style=\"color:#007FAA\"></i> **Learn more:** For more information on creating a knowledge base using console, refer to *[Amazon Bedrock Knowledge Bases](https://docs.aws.amazon.com/bedrock/latest/userguide/knowledge-base.html)*.\n",
    "\n",
    "### Scenario\n",
    "\n",
    "You implement the solution using Retrieval Augmented Generation (RAG) pattern. RAG retrieves data from outside the language model and augments the prompts by adding the retrieved data in context. Here, you are performing RAG effectively on the knowledge base created as part of lab provisioning.\n",
    "    \n",
    "In this notebook you:\n",
    "\n",
    "- Use AnyCompany's financial 10k reports (synthetically generated dataset) as a text corpus to perform Q&A on. This data is already ingested into the Amazon Bedrock Knowledge Bases during lab provisioning.\n",
    "- Use the Knowledge Base ID for an existing knowledge base that was created for this lab environment.\n",
    "- Use both Amazon Bedrock *Retrieve API* and LangChain retrieval to retrieve documents form the knowledge base, and add that as context to answer user queries.\n",
    "\n",
    "<i aria-hidden=\"true\" class=\"fas fa-exclamation-circle\" style=\"color:#7C5AED\"></i> **Caution:** It is recommended to run each code cell individually rather than using the **Run All Cells** option from the **Run** menu. Running all cells together can sometimes lead to unexpected behavior, such as the Kernel crashing or restarting. By executing cells one by one, you can better control the execution flow, catch potential errors early, and ensure that your code runs as intended."
   ]
  },
  {
   "cell_type": "markdown",
   "metadata": {},
   "source": [
    "### Task 2.1: Setup the environment\n",
    "\n",
    "In this task, you initiate the Amazon Bedrock client and perform the following operations:\n",
    "\n",
    "- Verify the Knowledge Base ID.\n",
    "- Import the necessary libraries and set up the necessary clients."
   ]
  },
  {
   "cell_type": "markdown",
   "metadata": {},
   "source": [
    "#### Task 2.1.1: Verify the Knowledge Base ID\n",
    "\n",
    "To run this notebook, you need to verify and assign the Knowledge Base ID to the *kb_id* variable and install the required packages.\n",
    "\n",
    "1. Run the following code cell to verify the ID for the existing Knowledge Base in Amazon Bedrock:"
   ]
  },
  {
   "cell_type": "code",
   "execution_count": 1,
   "metadata": {
    "collapsed": false,
    "jupyter": {
     "outputs_hidden": false
    }
   },
   "outputs": [
    {
     "name": "stdout",
     "output_type": "stream",
     "text": [
      "Knowledge Base ID: 8FGFT1BYEZ\n"
     ]
    }
   ],
   "source": [
    "import boto3\n",
    "import botocore\n",
    "\n",
    "session = boto3.Session()\n",
    "bedrock_client = session.client('bedrock-agent')\n",
    "\n",
    "try:\n",
    "    response = bedrock_client.list_knowledge_bases(\n",
    "        maxResults=1  # We only need to retrieve the first Knowledge Base\n",
    "    )\n",
    "    knowledge_base_summaries = response.get('knowledgeBaseSummaries', [])\n",
    "\n",
    "    if knowledge_base_summaries:\n",
    "        kb_id = knowledge_base_summaries[0]['knowledgeBaseId']\n",
    "        print(f\"Knowledge Base ID: {kb_id}\")\n",
    "    else:\n",
    "        print(\"No Knowledge Base summaries found.\")\n",
    "        \n",
    "except botocore.exceptions.ClientError as e:\n",
    "    print(f\"Error: {e}\")"
   ]
  },
  {
   "cell_type": "markdown",
   "metadata": {},
   "source": [
    "####  Task 2.1.2: Initiate the Amazon Bedrock client\n",
    "\n",
    "2. Run the following code cell to import the necessary libraries for setting up your environment:"
   ]
  },
  {
   "cell_type": "code",
   "execution_count": 2,
   "metadata": {},
   "outputs": [],
   "source": [
    "import boto3\n",
    "from botocore.client import Config\n",
    "import pprint\n",
    "import json\n",
    "\n",
    "pp = pprint.PrettyPrinter(indent=2)\n",
    "\n",
    "session = boto3.session.Session()\n",
    "region = session.region_name\n",
    "\n",
    "bedrock_config = Config(connect_timeout=120, read_timeout=120, retries={'max_attempts': 0})\n",
    "bedrock_client = boto3.client('bedrock-runtime', region_name = region)\n",
    "bedrock_agent_client = boto3.client(\"bedrock-agent-runtime\",\n",
    "                              config=bedrock_config, region_name = region)"
   ]
  },
  {
   "cell_type": "markdown",
   "metadata": {},
   "source": [
    "## Part 1: Use *Retrieve* API with foundation models from Amazon Bedrock\n",
    "\n",
    "<i aria-hidden=\"true\" class=\"fas fa-sticky-note\" style=\"color:#563377\"></i> **Note:** You use the *anthropic.claude-3-sonnet-20240229-v1:0* model for this part."
   ]
  },
  {
   "cell_type": "markdown",
   "metadata": {},
   "source": [
    "### Task 2.2: Use Retrieve API with foundation models from Amazon Bedrock\n",
    "\n",
    "In this task, you define a retrieve function that calls the *Retrieve* API provided by the Knowledge Base for Amazon Bedrock which converts user queries into embeddings, searches the knowledge base, and returns the relevant results, giving you more control to build custom workflows on top of the semantic search results.\n",
    "\n",
    "The output of the *Retrieve* API includes the *retrieved text chunks*, the *location type* and *URI* of the source data, as well as the relevance *scores* of the retrievals. You can also use the *overrideSearchType* option in *retrievalConfiguration* which offers the choice to use either *HYBRID* or *SEMANTIC*.\n",
    "\n",
    "By default, it selects the right strategy for you to give you most relevant results. If you want to override the default option to use either hybrid or semantic search, you can set the value to *HYBRID/SEMANTIC*.\n",
    "\n",
    "<!-- ![retrieveAPI](./images/retrieveAPI.png) -->\n",
    "<img src=\"images/retrieveAPI.png\" width=50% height=20% />\n",
    "\n",
    "*Image description: The preceding diagram depicts the customized RAG workflow for the lab environment.*"
   ]
  },
  {
   "cell_type": "markdown",
   "metadata": {},
   "source": [
    "3. Run the following code cell to define a *retrieve* function that calls the *Retrieve* API:"
   ]
  },
  {
   "cell_type": "code",
   "execution_count": 3,
   "metadata": {},
   "outputs": [],
   "source": [
    "def retrieve(query, kbId, numberOfResults=5):\n",
    "    return bedrock_agent_client.retrieve(\n",
    "        retrievalQuery= {\n",
    "            'text': query\n",
    "        },\n",
    "        knowledgeBaseId=kbId,\n",
    "        retrievalConfiguration= {\n",
    "            'vectorSearchConfiguration': {\n",
    "                'numberOfResults': numberOfResults,\n",
    "                'overrideSearchType': \"HYBRID\", # optional\n",
    "            }\n",
    "        }\n",
    "    )"
   ]
  },
  {
   "cell_type": "markdown",
   "metadata": {},
   "source": [
    "#### Task 2.2.1: Initialize your Knowledge Base ID before querying responses from the initialized LLM"
   ]
  },
  {
   "cell_type": "markdown",
   "metadata": {},
   "source": [
    "In this task, you call the *Retrieve* API, and pass the *Knowledge Base ID*, *number of results* and *query* as parameters. \n",
    "\n",
    "<i aria-hidden=\"true\" class=\"fas fa-sticky-note\" style=\"color:#563377\"></i> **Note:** You can view the associated score of each of the text chunk that was returned which depicts its correlation to the query in terms of how closely it matches it."
   ]
  },
  {
   "cell_type": "markdown",
   "metadata": {},
   "source": [
    "4. Run the following code cell to call the *Retrieve* API by passing the *Knowledge Base ID*, *number of results* and *query* as parameters:"
   ]
  },
  {
   "cell_type": "code",
   "execution_count": 4,
   "metadata": {
    "collapsed": false,
    "jupyter": {
     "outputs_hidden": false
    }
   },
   "outputs": [
    {
     "name": "stdout",
     "output_type": "stream",
     "text": [
      "[ { 'content': { 'text': 'The lease payments are structured in a way that '\n",
      "                         'provides AnyCompany with a profit or loss on the '\n",
      "                         'sale of the underlying asset. As of December 31, '\n",
      "                         '2021, AnyCompany has entered into sales-type leases '\n",
      "                         'with a total lease receivable of $20 million and a '\n",
      "                         'weighted-average remaining lease term of 3 '\n",
      "                         'years.      The following table summarizes '\n",
      "                         \"AnyCompany's lease portfolio as of December 31, \"\n",
      "                         '2021:      | Lease Type | Total Lease Liability | '\n",
      "                         'Weighted-Average Remaining Lease Term | | --- | --- '\n",
      "                         '| --- | | Operating Leases | $50 million | 5 years | '\n",
      "                         '| Financing Leases | $30 million | 7 years | | '\n",
      "                         'Sales-Type Leases | $20 million | 3 years |      In '\n",
      "                         'addition to the above, it is important to note that '\n",
      "                         'AnyCompany has adopted ASC 842, Leases, as of '\n",
      "                         'January 1, 2022. This new standard requires lessees '\n",
      "                         'to recognize a lease liability and a right-of-use '\n",
      "                         '(ROU) asset for all leases, with the exception of '\n",
      "                         'short-term leases. The new standard also requires '\n",
      "                         'lessees to classify leases as either finance or '\n",
      "                         'operating leases, with finance leases being those '\n",
      "                         'that transfer substantially all of the risks and '\n",
      "                         'rewards of ownership to the lessee.      As a result '\n",
      "                         'of adopting ASC 842, AnyCompany has recorded a ROU '\n",
      "                         'asset of $100 million and a lease liability of $100 '\n",
      "                         'million as of January 1, 2022.',\n",
      "                 'type': 'TEXT'},\n",
      "    'location': { 's3Location': { 'uri': 's3://rag-bucket-z2yenbx/AnyCompany_financial_10K.pdf'},\n",
      "                  'type': 'S3'},\n",
      "    'metadata': { 'x-amz-bedrock-kb-chunk-id': '1%3A0%3AB6l9nZMBkVWKKM08tIvG',\n",
      "                  'x-amz-bedrock-kb-data-source-id': 'ZO0UT3LS4H',\n",
      "                  'x-amz-bedrock-kb-document-page-number': 65.0,\n",
      "                  'x-amz-bedrock-kb-source-uri': 's3://rag-bucket-z2yenbx/AnyCompany_financial_10K.pdf'},\n",
      "    'score': 0.66774565},\n",
      "  { 'content': { 'text': 'The lease payments are structured in a way that '\n",
      "                         'provides AnyCompany with a profit or loss on the '\n",
      "                         'sale of the underlying asset. As of December 31, '\n",
      "                         '2021, AnyCompany has entered into sales-type leases '\n",
      "                         'with a total lease receivable of $20 million and a '\n",
      "                         'weighted-average remaining lease term of 3 '\n",
      "                         'years.      The following table summarizes '\n",
      "                         \"AnyCompany's lease portfolio as of December 31, \"\n",
      "                         '2021:      | Lease Type | Total Lease Liability | '\n",
      "                         'Weighted-Average Remaining Lease Term | | --- | --- '\n",
      "                         '| --- | | Operating Leases | $50 million | 5 years | '\n",
      "                         '| Financing Leases | $30 million | 7 years | | '\n",
      "                         'Sales-Type Leases | $20 million | 3 years |      In '\n",
      "                         'addition to the above, it is important to note that '\n",
      "                         'AnyCompany has adopted ASC 842, Leases, as of '\n",
      "                         'January 1, 2022. This new standard requires lessees '\n",
      "                         'to recognize a lease liability and a right-of-use '\n",
      "                         '(ROU) asset for all leases, with the exception of '\n",
      "                         'short-term leases. The new standard also requires '\n",
      "                         'lessees to classify leases as either finance or '\n",
      "                         'operating leases, with finance leases being those '\n",
      "                         'that transfer substantially all of the risks and '\n",
      "                         'rewards of ownership to the lessee.      As a result '\n",
      "                         'of adopting ASC 842, AnyCompany has recorded a ROU '\n",
      "                         'asset of $100 million and a lease liability of $100 '\n",
      "                         'million as of January 1, 2022.',\n",
      "                 'type': 'TEXT'},\n",
      "    'location': { 's3Location': { 'uri': 's3://rag-bucket-z2yenbx/AnyCompany_financial_10K.pdf'},\n",
      "                  'type': 'S3'},\n",
      "    'metadata': { 'x-amz-bedrock-kb-chunk-id': '1%3A0%3AT5d9nZMBpIvwD1vrq61J',\n",
      "                  'x-amz-bedrock-kb-data-source-id': 'ZO0UT3LS4H',\n",
      "                  'x-amz-bedrock-kb-document-page-number': 55.0,\n",
      "                  'x-amz-bedrock-kb-source-uri': 's3://rag-bucket-z2yenbx/AnyCompany_financial_10K.pdf'},\n",
      "    'score': 0.66774565},\n",
      "  { 'content': { 'text': \"As of December 31, 2022, AnyCompany Financial's \"\n",
      "                         'total equity stands at $1,310 million.      This '\n",
      "                         'table offers a clear and concise overview of '\n",
      "                         \"AnyCompany Financial's equity structure, allowing \"\n",
      "                         \"stakeholders to understand the company's financial \"\n",
      "                         'position and performance.Table for CONSOLIDATED '\n",
      "                         'STATEMENTS OF CASH FLOWS in In millions, except '\n",
      "                         'share amounts which are reflected in thousands, and '\n",
      "                         'per share amounts **AnyCompany Financial '\n",
      "                         'Consolidated Statements of Cash Flows**      The '\n",
      "                         'following table presents the consolidated statements '\n",
      "                         'of cash flows of AnyCompany Financial for the fiscal '\n",
      "                         'years ended December 31, 2021, 2020, and 2019. All '\n",
      "                         'amounts are in millions, except share amounts which '\n",
      "                         'are reflected in thousands, and per share '\n",
      "                         'amounts.      | (In millions) | 2021 | 2020 | 2019 | '\n",
      "                         '| --- | --- | --- | --- | | **Cash flows from '\n",
      "                         'operating activities:** | | | | | Net income | '\n",
      "                         '$1,200 | $900 | $700 | | Adjustments to reconcile '\n",
      "                         'net income to net cash provided by operating '\n",
      "                         'activities: | | | | | Depreciation and amortization '\n",
      "                         '| $250 | $220 | $190 | | Stock-based compensation | '\n",
      "                         '$120 | $100 | $80 | | Deferred income tax benefit | '\n",
      "                         '($50) | ($30) | ($20) | | Changes in operating '\n",
      "                         'assets and liabilities: | | | | | Accounts '\n",
      "                         'receivable | ($100) | ($80) |',\n",
      "                 'type': 'TEXT'},\n",
      "    'location': { 's3Location': { 'uri': 's3://rag-bucket-z2yenbx/AnyCompany_financial_10K.pdf'},\n",
      "                  'type': 'S3'},\n",
      "    'metadata': { 'x-amz-bedrock-kb-chunk-id': '1%3A0%3AQKl9nZMBkVWKKM08tIvT',\n",
      "                  'x-amz-bedrock-kb-data-source-id': 'ZO0UT3LS4H',\n",
      "                  'x-amz-bedrock-kb-document-page-number': 99.0,\n",
      "                  'x-amz-bedrock-kb-source-uri': 's3://rag-bucket-z2yenbx/AnyCompany_financial_10K.pdf'},\n",
      "    'score': 0.6177927088665794},\n",
      "  { 'content': { 'text': 'Each type of lease has its own unique '\n",
      "                         'characteristics and accounting treatment.      '\n",
      "                         'Operating leases are leases in which the underlying '\n",
      "                         'asset is used in the normal course of business and '\n",
      "                         'the lease payments are classified as operating '\n",
      "                         'expenses on the income statement. At the end of the '\n",
      "                         'lease term, AnyCompany does not have the right to '\n",
      "                         'purchase the underlying asset. As of December 31, '\n",
      "                         '2021, AnyCompany has entered into operating leases '\n",
      "                         'with a total lease liability of $50 million and a '\n",
      "                         'weighted- average remaining lease term of 5 '\n",
      "                         'years.      Financing leases are leases in which the '\n",
      "                         'underlying asset is used in the normal course of '\n",
      "                         'business, but the lease payments are structured in a '\n",
      "                         'way that provides AnyCompany with the option to '\n",
      "                         'purchase the underlying asset at the end of the '\n",
      "                         'lease term. At the end of the lease term, AnyCompany '\n",
      "                         'has the right to purchase the underlying asset for a '\n",
      "                         'nominal amount. As of December 31, 2021, AnyCompany '\n",
      "                         'has entered into financing leases with a total lease '\n",
      "                         'liability of $30 million and a weighted-average '\n",
      "                         'remaining lease term of 7 years.      Sales-type '\n",
      "                         'leases are leases in which AnyCompany is the lessor '\n",
      "                         'and the underlying asset is sold to the lessee at '\n",
      "                         'the beginning of the lease term. The lease payments '\n",
      "                         'are structured in a way that provides AnyCompany '\n",
      "                         'with a profit or loss on the sale of the underlying '\n",
      "                         'asset.',\n",
      "                 'type': 'TEXT'},\n",
      "    'location': { 's3Location': { 'uri': 's3://rag-bucket-z2yenbx/AnyCompany_financial_10K.pdf'},\n",
      "                  'type': 'S3'},\n",
      "    'metadata': { 'x-amz-bedrock-kb-chunk-id': '1%3A0%3ATpd9nZMBpIvwD1vrq61J',\n",
      "                  'x-amz-bedrock-kb-data-source-id': 'ZO0UT3LS4H',\n",
      "                  'x-amz-bedrock-kb-document-page-number': 55.0,\n",
      "                  'x-amz-bedrock-kb-source-uri': 's3://rag-bucket-z2yenbx/AnyCompany_financial_10K.pdf'},\n",
      "    'score': 0.6055300853328067},\n",
      "  { 'content': { 'text': 'Each type of lease has its own unique '\n",
      "                         'characteristics and accounting treatment.      '\n",
      "                         'Operating leases are leases in which the underlying '\n",
      "                         'asset is used in the normal course of business and '\n",
      "                         'the lease payments are classified as operating '\n",
      "                         'expenses on the income statement. At the end of the '\n",
      "                         'lease term, AnyCompany does not have the right to '\n",
      "                         'purchase the underlying asset. As of December 31, '\n",
      "                         '2021, AnyCompany has entered into operating leases '\n",
      "                         'with a total lease liability of $50 million and a '\n",
      "                         'weighted- average remaining lease term of 5 '\n",
      "                         'years.      Financing leases are leases in which the '\n",
      "                         'underlying asset is used in the normal course of '\n",
      "                         'business, but the lease payments are structured in a '\n",
      "                         'way that provides AnyCompany with the option to '\n",
      "                         'purchase the underlying asset at the end of the '\n",
      "                         'lease term. At the end of the lease term, AnyCompany '\n",
      "                         'has the right to purchase the underlying asset for a '\n",
      "                         'nominal amount. As of December 31, 2021, AnyCompany '\n",
      "                         'has entered into financing leases with a total lease '\n",
      "                         'liability of $30 million and a weighted-average '\n",
      "                         'remaining lease term of 7 years.      Sales-type '\n",
      "                         'leases are leases in which AnyCompany is the lessor '\n",
      "                         'and the underlying asset is sold to the lessee at '\n",
      "                         'the beginning of the lease term. The lease payments '\n",
      "                         'are structured in a way that provides AnyCompany '\n",
      "                         'with a profit or loss on the sale of the underlying '\n",
      "                         'asset.',\n",
      "                 'type': 'TEXT'},\n",
      "    'location': { 's3Location': { 'uri': 's3://rag-bucket-z2yenbx/AnyCompany_financial_10K.pdf'},\n",
      "                  'type': 'S3'},\n",
      "    'metadata': { 'x-amz-bedrock-kb-chunk-id': '1%3A0%3ABql9nZMBkVWKKM08tIvG',\n",
      "                  'x-amz-bedrock-kb-data-source-id': 'ZO0UT3LS4H',\n",
      "                  'x-amz-bedrock-kb-document-page-number': 65.0,\n",
      "                  'x-amz-bedrock-kb-source-uri': 's3://rag-bucket-z2yenbx/AnyCompany_financial_10K.pdf'},\n",
      "    'score': 0.5974435}]\n"
     ]
    }
   ],
   "source": [
    "query = \"What was the total operating lease liabilities and total sublease income of the AnyCompany as of December 31, 2022?\"\n",
    "response = retrieve(query, kb_id, 5)\n",
    "retrievalResults = response['retrievalResults']\n",
    "pp.pprint(retrievalResults)"
   ]
  },
  {
   "cell_type": "markdown",
   "metadata": {},
   "source": [
    "#### Task 2.2.2: Extract the text chunks from the *Retrieve* API response\n",
    "\n",
    "In this task, you extract the text chunks from the *Retrieve* API response.\n",
    "\n",
    "5. Run the following two code cells to fetch the context from the retrieval results and print them:"
   ]
  },
  {
   "cell_type": "code",
   "execution_count": 5,
   "metadata": {},
   "outputs": [],
   "source": [
    "# fetch context from the response\n",
    "def get_contexts(retrievalResults):\n",
    "    contexts = []\n",
    "    for retrievedResult in retrievalResults: \n",
    "        contexts.append(retrievedResult['content']['text'])\n",
    "    return contexts"
   ]
  },
  {
   "cell_type": "code",
   "execution_count": 6,
   "metadata": {},
   "outputs": [
    {
     "name": "stdout",
     "output_type": "stream",
     "text": [
      "[ 'The lease payments are structured in a way that provides AnyCompany with a '\n",
      "  'profit or loss on the sale of the underlying asset. As of December 31, '\n",
      "  '2021, AnyCompany has entered into sales-type leases with a total lease '\n",
      "  'receivable of $20 million and a weighted-average remaining lease term of 3 '\n",
      "  \"years.      The following table summarizes AnyCompany's lease portfolio as \"\n",
      "  'of December 31, 2021:      | Lease Type | Total Lease Liability | '\n",
      "  'Weighted-Average Remaining Lease Term | | --- | --- | --- | | Operating '\n",
      "  'Leases | $50 million | 5 years | | Financing Leases | $30 million | 7 years '\n",
      "  '| | Sales-Type Leases | $20 million | 3 years |      In addition to the '\n",
      "  'above, it is important to note that AnyCompany has adopted ASC 842, Leases, '\n",
      "  'as of January 1, 2022. This new standard requires lessees to recognize a '\n",
      "  'lease liability and a right-of-use (ROU) asset for all leases, with the '\n",
      "  'exception of short-term leases. The new standard also requires lessees to '\n",
      "  'classify leases as either finance or operating leases, with finance leases '\n",
      "  'being those that transfer substantially all of the risks and rewards of '\n",
      "  'ownership to the lessee.      As a result of adopting ASC 842, AnyCompany '\n",
      "  'has recorded a ROU asset of $100 million and a lease liability of $100 '\n",
      "  'million as of January 1, 2022.',\n",
      "  'The lease payments are structured in a way that provides AnyCompany with a '\n",
      "  'profit or loss on the sale of the underlying asset. As of December 31, '\n",
      "  '2021, AnyCompany has entered into sales-type leases with a total lease '\n",
      "  'receivable of $20 million and a weighted-average remaining lease term of 3 '\n",
      "  \"years.      The following table summarizes AnyCompany's lease portfolio as \"\n",
      "  'of December 31, 2021:      | Lease Type | Total Lease Liability | '\n",
      "  'Weighted-Average Remaining Lease Term | | --- | --- | --- | | Operating '\n",
      "  'Leases | $50 million | 5 years | | Financing Leases | $30 million | 7 years '\n",
      "  '| | Sales-Type Leases | $20 million | 3 years |      In addition to the '\n",
      "  'above, it is important to note that AnyCompany has adopted ASC 842, Leases, '\n",
      "  'as of January 1, 2022. This new standard requires lessees to recognize a '\n",
      "  'lease liability and a right-of-use (ROU) asset for all leases, with the '\n",
      "  'exception of short-term leases. The new standard also requires lessees to '\n",
      "  'classify leases as either finance or operating leases, with finance leases '\n",
      "  'being those that transfer substantially all of the risks and rewards of '\n",
      "  'ownership to the lessee.      As a result of adopting ASC 842, AnyCompany '\n",
      "  'has recorded a ROU asset of $100 million and a lease liability of $100 '\n",
      "  'million as of January 1, 2022.',\n",
      "  \"As of December 31, 2022, AnyCompany Financial's total equity stands at \"\n",
      "  '$1,310 million.      This table offers a clear and concise overview of '\n",
      "  \"AnyCompany Financial's equity structure, allowing stakeholders to \"\n",
      "  \"understand the company's financial position and performance.Table for \"\n",
      "  'CONSOLIDATED STATEMENTS OF CASH FLOWS in In millions, except share amounts '\n",
      "  'which are reflected in thousands, and per share amounts **AnyCompany '\n",
      "  'Financial Consolidated Statements of Cash Flows**      The following table '\n",
      "  'presents the consolidated statements of cash flows of AnyCompany Financial '\n",
      "  'for the fiscal years ended December 31, 2021, 2020, and 2019. All amounts '\n",
      "  'are in millions, except share amounts which are reflected in thousands, and '\n",
      "  'per share amounts.      | (In millions) | 2021 | 2020 | 2019 | | --- | --- '\n",
      "  '| --- | --- | | **Cash flows from operating activities:** | | | | | Net '\n",
      "  'income | $1,200 | $900 | $700 | | Adjustments to reconcile net income to '\n",
      "  'net cash provided by operating activities: | | | | | Depreciation and '\n",
      "  'amortization | $250 | $220 | $190 | | Stock-based compensation | $120 | '\n",
      "  '$100 | $80 | | Deferred income tax benefit | ($50) | ($30) | ($20) | | '\n",
      "  'Changes in operating assets and liabilities: | | | | | Accounts receivable '\n",
      "  '| ($100) | ($80) |',\n",
      "  'Each type of lease has its own unique characteristics and accounting '\n",
      "  'treatment.      Operating leases are leases in which the underlying asset '\n",
      "  'is used in the normal course of business and the lease payments are '\n",
      "  'classified as operating expenses on the income statement. At the end of the '\n",
      "  'lease term, AnyCompany does not have the right to purchase the underlying '\n",
      "  'asset. As of December 31, 2021, AnyCompany has entered into operating '\n",
      "  'leases with a total lease liability of $50 million and a weighted- average '\n",
      "  'remaining lease term of 5 years.      Financing leases are leases in which '\n",
      "  'the underlying asset is used in the normal course of business, but the '\n",
      "  'lease payments are structured in a way that provides AnyCompany with the '\n",
      "  'option to purchase the underlying asset at the end of the lease term. At '\n",
      "  'the end of the lease term, AnyCompany has the right to purchase the '\n",
      "  'underlying asset for a nominal amount. As of December 31, 2021, AnyCompany '\n",
      "  'has entered into financing leases with a total lease liability of $30 '\n",
      "  'million and a weighted-average remaining lease term of 7 years.      '\n",
      "  'Sales-type leases are leases in which AnyCompany is the lessor and the '\n",
      "  'underlying asset is sold to the lessee at the beginning of the lease term. '\n",
      "  'The lease payments are structured in a way that provides AnyCompany with a '\n",
      "  'profit or loss on the sale of the underlying asset.',\n",
      "  'Each type of lease has its own unique characteristics and accounting '\n",
      "  'treatment.      Operating leases are leases in which the underlying asset '\n",
      "  'is used in the normal course of business and the lease payments are '\n",
      "  'classified as operating expenses on the income statement. At the end of the '\n",
      "  'lease term, AnyCompany does not have the right to purchase the underlying '\n",
      "  'asset. As of December 31, 2021, AnyCompany has entered into operating '\n",
      "  'leases with a total lease liability of $50 million and a weighted- average '\n",
      "  'remaining lease term of 5 years.      Financing leases are leases in which '\n",
      "  'the underlying asset is used in the normal course of business, but the '\n",
      "  'lease payments are structured in a way that provides AnyCompany with the '\n",
      "  'option to purchase the underlying asset at the end of the lease term. At '\n",
      "  'the end of the lease term, AnyCompany has the right to purchase the '\n",
      "  'underlying asset for a nominal amount. As of December 31, 2021, AnyCompany '\n",
      "  'has entered into financing leases with a total lease liability of $30 '\n",
      "  'million and a weighted-average remaining lease term of 7 years.      '\n",
      "  'Sales-type leases are leases in which AnyCompany is the lessor and the '\n",
      "  'underlying asset is sold to the lessee at the beginning of the lease term. '\n",
      "  'The lease payments are structured in a way that provides AnyCompany with a '\n",
      "  'profit or loss on the sale of the underlying asset.']\n"
     ]
    }
   ],
   "source": [
    "contexts = get_contexts(retrievalResults)\n",
    "pp.pprint(contexts)"
   ]
  },
  {
   "cell_type": "markdown",
   "metadata": {},
   "source": [
    "#### Task 2.2.3: Use specific prompt for the model to generate personalized responses \n",
    "\n",
    "In the task, you use a specific prompt for the model to act as a financial advisor AI system that provides answers to questions by using fact based and statistical information when possible. You provide the *Retrieve* API responses from earlier task as a part of the *{contexts}* in the prompt for the model to refer to, along with the user *query*."
   ]
  },
  {
   "cell_type": "markdown",
   "metadata": {},
   "source": [
    "6. Run the following code cell to use a specific prompt for the model to act as a financial advisor AI system:"
   ]
  },
  {
   "cell_type": "code",
   "execution_count": 7,
   "metadata": {},
   "outputs": [],
   "source": [
    "prompt = f\"\"\"\n",
    "Human: You are a financial advisor AI system, and provides answers to questions by using fact based and statistical information when possible. \n",
    "Use the following pieces of information to provide a concise answer to the question enclosed in <question> tags. \n",
    "If you don't know the answer, just say that you don't know, don't try to make up an answer.\n",
    "<context>\n",
    "{contexts}\n",
    "</context>\n",
    "\n",
    "<question>\n",
    "{query}\n",
    "</question>\n",
    "\n",
    "The response should be specific and use statistics or numbers when possible.\n",
    "\n",
    "Assistant:\"\"\""
   ]
  },
  {
   "cell_type": "markdown",
   "metadata": {},
   "source": [
    "#### Task 2.2.4: Invoke foundation model from Amazon Bedrock\n",
    "\n",
    "In this task, you use the **anthropic.claude-3-sonnet-20240229-v1:0** foundation model from Amazon Bedrock."
   ]
  },
  {
   "cell_type": "markdown",
   "metadata": {},
   "source": [
    "7. Run the following two code cells to invoke the **anthropic.claude-3-sonnet-20240229-v1:0** foundation model from Amazon Bedrock. You are passing both the context and the query to the model:"
   ]
  },
  {
   "cell_type": "code",
   "execution_count": 8,
   "metadata": {},
   "outputs": [],
   "source": [
    "# payload with model parameters\n",
    "messages=[{ \"role\":'user', \"content\":[{'type':'text','text': prompt}]}]\n",
    "sonnet_payload = json.dumps({\n",
    "    \"anthropic_version\": \"bedrock-2023-05-31\",\n",
    "    \"max_tokens\": 512,\n",
    "    \"messages\": messages,\n",
    "    \"temperature\": 0.5,\n",
    "    \"top_p\": 1\n",
    "        }  )"
   ]
  },
  {
   "cell_type": "code",
   "execution_count": 9,
   "metadata": {},
   "outputs": [
    {
     "name": "stdout",
     "output_type": "stream",
     "text": [
      "('Unfortunately, the provided context does not contain any information about '\n",
      " \"AnyCompany's total operating lease liabilities or total sublease income as \"\n",
      " \"of December 31, 2022. The context only provides details about AnyCompany's \"\n",
      " 'lease portfolio as of December 31, 2021, including the total lease '\n",
      " 'liabilities for operating leases, financing leases, and sales-type leases. '\n",
      " 'It does not mention the specific figures for the total operating lease '\n",
      " 'liabilities or total sublease income as of December 31, 2022.')\n"
     ]
    }
   ],
   "source": [
    "modelId = 'anthropic.claude-3-sonnet-20240229-v1:0' # change this to use a different version from the model provider\n",
    "accept = 'application/json'\n",
    "contentType = 'application/json'\n",
    "response = bedrock_client.invoke_model(body=sonnet_payload, modelId=modelId, accept=accept, contentType=contentType)\n",
    "response_body = json.loads(response.get('body').read())\n",
    "response_text = response_body.get('content')[0]['text']\n",
    "\n",
    "pp.pprint(response_text)"
   ]
  },
  {
   "cell_type": "markdown",
   "metadata": {},
   "source": [
    "## Part 2: LangChain integration\n",
    "\n",
    "### Task 2.3: LangChain integration\n",
    "\n",
    "In this task, you build a Q&A application using the *AmazonKnowledgeBasesRetriever* class from LangChain. You query the knowledge base to get the desired number of document chunks based on similarity search. Following that you integrate it with LangChain chain to pass the document chunks and the query to the llm (**Anthropic Claude 3 Sonnet**) for answering questions."
   ]
  },
  {
   "cell_type": "markdown",
   "metadata": {},
   "source": [
    "#### Task 2.3.1: Environment setup\n",
    "\n",
    "In this task, you set up your environment."
   ]
  },
  {
   "cell_type": "markdown",
   "metadata": {},
   "source": [
    "8. Run the following code cell to import the necessary packages for setting up your environment:"
   ]
  },
  {
   "cell_type": "code",
   "execution_count": 10,
   "metadata": {},
   "outputs": [],
   "source": [
    "import langchain\n",
    "from langchain_aws import ChatBedrock\n",
    "from langchain_community.retrievers import AmazonKnowledgeBasesRetriever\n",
    "\n",
    "llm = ChatBedrock(model_id=modelId, \n",
    "                  client=bedrock_client)"
   ]
  },
  {
   "cell_type": "markdown",
   "metadata": {},
   "source": [
    "#### Task 2.3.2: Create AmazonKnowledgeBasesRetriever object that calls the Retrieve API\n",
    "\n",
    "In this task, you create a *AmazonKnowledgeBasesRetriever* object from LangChain which calls the *Retrieve* API provided by Amazon Bedrock Knowledge Bases. This converts user queries into embeddings, searches the knowledge base, and returns the relevant results, giving you more control to build custom workflows on top of the semantic search results."
   ]
  },
  {
   "cell_type": "markdown",
   "metadata": {},
   "source": [
    "9. Run the following code cell to create the *AmazonKnowledgeBasesRetriever* object:"
   ]
  },
  {
   "cell_type": "code",
   "execution_count": 11,
   "metadata": {},
   "outputs": [
    {
     "name": "stdout",
     "output_type": "stream",
     "text": [
      "The lease payments are structured in a way that provides AnyCompany with a profit or loss on the sale of the underlying asset. As of December 31, 2021, AnyCompany has entered into sales-type leases with a total lease receivable of $20 million and a weighted-average remaining lease term of 3 years.      The following table summarizes AnyCompany's lease portfolio as of December 31, 2021:      | Lease Type | Total Lease Liability | Weighted-Average Remaining Lease Term | | --- | --- | --- | | Operating Leases | $50 million | 5 years | | Financing Leases | $30 million | 7 years | | Sales-Type Leases | $20 million | 3 years |      In addition to the above, it is important to note that AnyCompany has adopted ASC 842, Leases, as of January 1, 2022. This new standard requires lessees to recognize a lease liability and a right-of-use (ROU) asset for all leases, with the exception of short-term leases. The new standard also requires lessees to classify leases as either finance or operating leases, with finance leases being those that transfer substantially all of the risks and rewards of ownership to the lessee.      As a result of adopting ASC 842, AnyCompany has recorded a ROU asset of $100 million and a lease liability of $100 million as of January 1, 2022.\n",
      "------\n",
      "The lease payments are structured in a way that provides AnyCompany with a profit or loss on the sale of the underlying asset. As of December 31, 2021, AnyCompany has entered into sales-type leases with a total lease receivable of $20 million and a weighted-average remaining lease term of 3 years.      The following table summarizes AnyCompany's lease portfolio as of December 31, 2021:      | Lease Type | Total Lease Liability | Weighted-Average Remaining Lease Term | | --- | --- | --- | | Operating Leases | $50 million | 5 years | | Financing Leases | $30 million | 7 years | | Sales-Type Leases | $20 million | 3 years |      In addition to the above, it is important to note that AnyCompany has adopted ASC 842, Leases, as of January 1, 2022. This new standard requires lessees to recognize a lease liability and a right-of-use (ROU) asset for all leases, with the exception of short-term leases. The new standard also requires lessees to classify leases as either finance or operating leases, with finance leases being those that transfer substantially all of the risks and rewards of ownership to the lessee.      As a result of adopting ASC 842, AnyCompany has recorded a ROU asset of $100 million and a lease liability of $100 million as of January 1, 2022.\n",
      "------\n",
      "Each type of lease has its own unique characteristics and accounting treatment.      Operating leases are leases in which the underlying asset is used in the normal course of business and the lease payments are classified as operating expenses on the income statement. At the end of the lease term, AnyCompany does not have the right to purchase the underlying asset. As of December 31, 2021, AnyCompany has entered into operating leases with a total lease liability of $50 million and a weighted- average remaining lease term of 5 years.      Financing leases are leases in which the underlying asset is used in the normal course of business, but the lease payments are structured in a way that provides AnyCompany with the option to purchase the underlying asset at the end of the lease term. At the end of the lease term, AnyCompany has the right to purchase the underlying asset for a nominal amount. As of December 31, 2021, AnyCompany has entered into financing leases with a total lease liability of $30 million and a weighted-average remaining lease term of 7 years.      Sales-type leases are leases in which AnyCompany is the lessor and the underlying asset is sold to the lessee at the beginning of the lease term. The lease payments are structured in a way that provides AnyCompany with a profit or loss on the sale of the underlying asset.\n",
      "------\n",
      "Each type of lease has its own unique characteristics and accounting treatment.      Operating leases are leases in which the underlying asset is used in the normal course of business and the lease payments are classified as operating expenses on the income statement. At the end of the lease term, AnyCompany does not have the right to purchase the underlying asset. As of December 31, 2021, AnyCompany has entered into operating leases with a total lease liability of $50 million and a weighted- average remaining lease term of 5 years.      Financing leases are leases in which the underlying asset is used in the normal course of business, but the lease payments are structured in a way that provides AnyCompany with the option to purchase the underlying asset at the end of the lease term. At the end of the lease term, AnyCompany has the right to purchase the underlying asset for a nominal amount. As of December 31, 2021, AnyCompany has entered into financing leases with a total lease liability of $30 million and a weighted-average remaining lease term of 7 years.      Sales-type leases are leases in which AnyCompany is the lessor and the underlying asset is sold to the lessee at the beginning of the lease term. The lease payments are structured in a way that provides AnyCompany with a profit or loss on the sale of the underlying asset.\n",
      "------\n"
     ]
    }
   ],
   "source": [
    "query = \"What was the total operating lease liabilities and total sublease income of the AnyCompany as of December 31, 2022?\"\n",
    "retriever = AmazonKnowledgeBasesRetriever(\n",
    "        knowledge_base_id=kb_id,\n",
    "        retrieval_config={\"vectorSearchConfiguration\": \n",
    "                          {\"numberOfResults\": 4,\n",
    "                           'overrideSearchType': \"SEMANTIC\", # optional\n",
    "                           }\n",
    "                          },\n",
    "        # endpoint_url=endpoint_url,\n",
    "        # region_name=region,\n",
    "        # credentials_profile_name=\"<profile_name>\",\n",
    "    )\n",
    "docs = retriever.invoke(\n",
    "        input=query\n",
    "    )\n",
    "for doc in docs:\n",
    "    print(doc.page_content)\n",
    "    print(\"------\")"
   ]
  },
  {
   "cell_type": "markdown",
   "metadata": {},
   "source": [
    "#### Task 2.3.3: Use specific prompt to the model to get personalized responses\n",
    "\n",
    "In this task, you use specific prompt for the model to act as a financial advisor AI system that provides answers to questions by using fact based and statistical information when possible. You provide the *Retrieve* API responses from above as a part of the *{context}* in the prompt for the model to refer to, along with the user *query*."
   ]
  },
  {
   "cell_type": "markdown",
   "metadata": {},
   "source": [
    "10. Run the following code cell to use a specific prompt for the model to act as a financial advisor AI system:"
   ]
  },
  {
   "cell_type": "code",
   "execution_count": 12,
   "metadata": {},
   "outputs": [],
   "source": [
    "from langchain.prompts import PromptTemplate\n",
    "\n",
    "PROMPT_TEMPLATE = \"\"\"\n",
    "Human: You are a financial advisor AI system, and provides answers to questions by using fact based and statistical information when possible. \n",
    "Use the following pieces of information to provide a concise answer to the question enclosed in <question> tags. \n",
    "If you don't know the answer, just say that you don't know, don't try to make up an answer.\n",
    "<context>\n",
    "{context}\n",
    "</context>\n",
    "\n",
    "<question>\n",
    "{question}\n",
    "</question>\n",
    "\n",
    "The response should be specific and use statistics or numbers when possible.\n",
    "\n",
    "Assistant:\"\"\"\n",
    "claude_prompt = PromptTemplate(template=PROMPT_TEMPLATE, \n",
    "                               input_variables=[\"context\",\"question\"])"
   ]
  },
  {
   "cell_type": "markdown",
   "metadata": {},
   "source": [
    "#### Task 2.3.4: Integrate the retriever and the LLM with retrieval chain to build the Q&A application\n",
    "\n",
    "In this task, you integrate the retriever and the LLM using Langchain Expression Language (LCEL) to build the Q&A application."
   ]
  },
  {
   "cell_type": "markdown",
   "metadata": {},
   "source": [
    "11. Run the following cell to integrate the retriever and the LLM with the documents retrieved using retriever.invoke. Print the results:"
   ]
  },
  {
   "cell_type": "code",
   "execution_count": 13,
   "metadata": {},
   "outputs": [
    {
     "name": "stdout",
     "output_type": "stream",
     "text": [
      "Unfortunately, the provided context does not contain information about AnyCompany's total operating lease liabilities and total sublease income as of December 31, 2022. The context only provides details about AnyCompany's lease portfolio as of December 31, 2021, including the total lease liabilities for operating leases ($50 million), financing leases ($30 million), and sales-type leases ($20 million lease receivable). There is no mention of the company's operating lease liabilities or sublease income for the year ending December 31, 2022.\n"
     ]
    }
   ],
   "source": [
    "from langchain_core.output_parsers import StrOutputParser\n",
    "from langchain_core.runnables import RunnablePassthrough\n",
    "\n",
    "def format_docs(docs): #concatenate the text from the page_content field in the output from retriever.invoke\n",
    "    return \"\\n\\n\".join(doc.page_content for doc in docs)\n",
    "\n",
    "chain = (\n",
    "    {\"context\": retriever | format_docs, \"question\": RunnablePassthrough()}\n",
    "    | claude_prompt\n",
    "    | llm\n",
    "    | StrOutputParser()\n",
    ")\n",
    "\n",
    "response=chain.invoke(query)\n",
    "print(response)"
   ]
  },
  {
   "cell_type": "markdown",
   "metadata": {},
   "source": [
    "<i aria-hidden=\"true\" class=\"far fa-thumbs-up\" style=\"color:#008296\"></i> **Task complete:** You have completed this notebook. To move to the next part of the lab, do the following:\n",
    "\n",
    "- Close this notebook file.\n",
    "- Return to the lab session and continue with Task 3."
   ]
  }
 ],
 "metadata": {
  "availableInstances": [
   {
    "_defaultOrder": 0,
    "_isFastLaunch": true,
    "category": "General purpose",
    "gpuNum": 0,
    "hideHardwareSpecs": false,
    "memoryGiB": 4,
    "name": "ml.t3.medium",
    "vcpuNum": 2
   },
   {
    "_defaultOrder": 1,
    "_isFastLaunch": false,
    "category": "General purpose",
    "gpuNum": 0,
    "hideHardwareSpecs": false,
    "memoryGiB": 8,
    "name": "ml.t3.large",
    "vcpuNum": 2
   },
   {
    "_defaultOrder": 2,
    "_isFastLaunch": false,
    "category": "General purpose",
    "gpuNum": 0,
    "hideHardwareSpecs": false,
    "memoryGiB": 16,
    "name": "ml.t3.xlarge",
    "vcpuNum": 4
   },
   {
    "_defaultOrder": 3,
    "_isFastLaunch": false,
    "category": "General purpose",
    "gpuNum": 0,
    "hideHardwareSpecs": false,
    "memoryGiB": 32,
    "name": "ml.t3.2xlarge",
    "vcpuNum": 8
   },
   {
    "_defaultOrder": 4,
    "_isFastLaunch": true,
    "category": "General purpose",
    "gpuNum": 0,
    "hideHardwareSpecs": false,
    "memoryGiB": 8,
    "name": "ml.m5.large",
    "vcpuNum": 2
   },
   {
    "_defaultOrder": 5,
    "_isFastLaunch": false,
    "category": "General purpose",
    "gpuNum": 0,
    "hideHardwareSpecs": false,
    "memoryGiB": 16,
    "name": "ml.m5.xlarge",
    "vcpuNum": 4
   },
   {
    "_defaultOrder": 6,
    "_isFastLaunch": false,
    "category": "General purpose",
    "gpuNum": 0,
    "hideHardwareSpecs": false,
    "memoryGiB": 32,
    "name": "ml.m5.2xlarge",
    "vcpuNum": 8
   },
   {
    "_defaultOrder": 7,
    "_isFastLaunch": false,
    "category": "General purpose",
    "gpuNum": 0,
    "hideHardwareSpecs": false,
    "memoryGiB": 64,
    "name": "ml.m5.4xlarge",
    "vcpuNum": 16
   },
   {
    "_defaultOrder": 8,
    "_isFastLaunch": false,
    "category": "General purpose",
    "gpuNum": 0,
    "hideHardwareSpecs": false,
    "memoryGiB": 128,
    "name": "ml.m5.8xlarge",
    "vcpuNum": 32
   },
   {
    "_defaultOrder": 9,
    "_isFastLaunch": false,
    "category": "General purpose",
    "gpuNum": 0,
    "hideHardwareSpecs": false,
    "memoryGiB": 192,
    "name": "ml.m5.12xlarge",
    "vcpuNum": 48
   },
   {
    "_defaultOrder": 10,
    "_isFastLaunch": false,
    "category": "General purpose",
    "gpuNum": 0,
    "hideHardwareSpecs": false,
    "memoryGiB": 256,
    "name": "ml.m5.16xlarge",
    "vcpuNum": 64
   },
   {
    "_defaultOrder": 11,
    "_isFastLaunch": false,
    "category": "General purpose",
    "gpuNum": 0,
    "hideHardwareSpecs": false,
    "memoryGiB": 384,
    "name": "ml.m5.24xlarge",
    "vcpuNum": 96
   },
   {
    "_defaultOrder": 12,
    "_isFastLaunch": false,
    "category": "General purpose",
    "gpuNum": 0,
    "hideHardwareSpecs": false,
    "memoryGiB": 8,
    "name": "ml.m5d.large",
    "vcpuNum": 2
   },
   {
    "_defaultOrder": 13,
    "_isFastLaunch": false,
    "category": "General purpose",
    "gpuNum": 0,
    "hideHardwareSpecs": false,
    "memoryGiB": 16,
    "name": "ml.m5d.xlarge",
    "vcpuNum": 4
   },
   {
    "_defaultOrder": 14,
    "_isFastLaunch": false,
    "category": "General purpose",
    "gpuNum": 0,
    "hideHardwareSpecs": false,
    "memoryGiB": 32,
    "name": "ml.m5d.2xlarge",
    "vcpuNum": 8
   },
   {
    "_defaultOrder": 15,
    "_isFastLaunch": false,
    "category": "General purpose",
    "gpuNum": 0,
    "hideHardwareSpecs": false,
    "memoryGiB": 64,
    "name": "ml.m5d.4xlarge",
    "vcpuNum": 16
   },
   {
    "_defaultOrder": 16,
    "_isFastLaunch": false,
    "category": "General purpose",
    "gpuNum": 0,
    "hideHardwareSpecs": false,
    "memoryGiB": 128,
    "name": "ml.m5d.8xlarge",
    "vcpuNum": 32
   },
   {
    "_defaultOrder": 17,
    "_isFastLaunch": false,
    "category": "General purpose",
    "gpuNum": 0,
    "hideHardwareSpecs": false,
    "memoryGiB": 192,
    "name": "ml.m5d.12xlarge",
    "vcpuNum": 48
   },
   {
    "_defaultOrder": 18,
    "_isFastLaunch": false,
    "category": "General purpose",
    "gpuNum": 0,
    "hideHardwareSpecs": false,
    "memoryGiB": 256,
    "name": "ml.m5d.16xlarge",
    "vcpuNum": 64
   },
   {
    "_defaultOrder": 19,
    "_isFastLaunch": false,
    "category": "General purpose",
    "gpuNum": 0,
    "hideHardwareSpecs": false,
    "memoryGiB": 384,
    "name": "ml.m5d.24xlarge",
    "vcpuNum": 96
   },
   {
    "_defaultOrder": 20,
    "_isFastLaunch": false,
    "category": "General purpose",
    "gpuNum": 0,
    "hideHardwareSpecs": true,
    "memoryGiB": 0,
    "name": "ml.geospatial.interactive",
    "supportedImageNames": [
     "sagemaker-geospatial-v1-0"
    ],
    "vcpuNum": 0
   },
   {
    "_defaultOrder": 21,
    "_isFastLaunch": true,
    "category": "Compute optimized",
    "gpuNum": 0,
    "hideHardwareSpecs": false,
    "memoryGiB": 4,
    "name": "ml.c5.large",
    "vcpuNum": 2
   },
   {
    "_defaultOrder": 22,
    "_isFastLaunch": false,
    "category": "Compute optimized",
    "gpuNum": 0,
    "hideHardwareSpecs": false,
    "memoryGiB": 8,
    "name": "ml.c5.xlarge",
    "vcpuNum": 4
   },
   {
    "_defaultOrder": 23,
    "_isFastLaunch": false,
    "category": "Compute optimized",
    "gpuNum": 0,
    "hideHardwareSpecs": false,
    "memoryGiB": 16,
    "name": "ml.c5.2xlarge",
    "vcpuNum": 8
   },
   {
    "_defaultOrder": 24,
    "_isFastLaunch": false,
    "category": "Compute optimized",
    "gpuNum": 0,
    "hideHardwareSpecs": false,
    "memoryGiB": 32,
    "name": "ml.c5.4xlarge",
    "vcpuNum": 16
   },
   {
    "_defaultOrder": 25,
    "_isFastLaunch": false,
    "category": "Compute optimized",
    "gpuNum": 0,
    "hideHardwareSpecs": false,
    "memoryGiB": 72,
    "name": "ml.c5.9xlarge",
    "vcpuNum": 36
   },
   {
    "_defaultOrder": 26,
    "_isFastLaunch": false,
    "category": "Compute optimized",
    "gpuNum": 0,
    "hideHardwareSpecs": false,
    "memoryGiB": 96,
    "name": "ml.c5.12xlarge",
    "vcpuNum": 48
   },
   {
    "_defaultOrder": 27,
    "_isFastLaunch": false,
    "category": "Compute optimized",
    "gpuNum": 0,
    "hideHardwareSpecs": false,
    "memoryGiB": 144,
    "name": "ml.c5.18xlarge",
    "vcpuNum": 72
   },
   {
    "_defaultOrder": 28,
    "_isFastLaunch": false,
    "category": "Compute optimized",
    "gpuNum": 0,
    "hideHardwareSpecs": false,
    "memoryGiB": 192,
    "name": "ml.c5.24xlarge",
    "vcpuNum": 96
   },
   {
    "_defaultOrder": 29,
    "_isFastLaunch": true,
    "category": "Accelerated computing",
    "gpuNum": 1,
    "hideHardwareSpecs": false,
    "memoryGiB": 16,
    "name": "ml.g4dn.xlarge",
    "vcpuNum": 4
   },
   {
    "_defaultOrder": 30,
    "_isFastLaunch": false,
    "category": "Accelerated computing",
    "gpuNum": 1,
    "hideHardwareSpecs": false,
    "memoryGiB": 32,
    "name": "ml.g4dn.2xlarge",
    "vcpuNum": 8
   },
   {
    "_defaultOrder": 31,
    "_isFastLaunch": false,
    "category": "Accelerated computing",
    "gpuNum": 1,
    "hideHardwareSpecs": false,
    "memoryGiB": 64,
    "name": "ml.g4dn.4xlarge",
    "vcpuNum": 16
   },
   {
    "_defaultOrder": 32,
    "_isFastLaunch": false,
    "category": "Accelerated computing",
    "gpuNum": 1,
    "hideHardwareSpecs": false,
    "memoryGiB": 128,
    "name": "ml.g4dn.8xlarge",
    "vcpuNum": 32
   },
   {
    "_defaultOrder": 33,
    "_isFastLaunch": false,
    "category": "Accelerated computing",
    "gpuNum": 4,
    "hideHardwareSpecs": false,
    "memoryGiB": 192,
    "name": "ml.g4dn.12xlarge",
    "vcpuNum": 48
   },
   {
    "_defaultOrder": 34,
    "_isFastLaunch": false,
    "category": "Accelerated computing",
    "gpuNum": 1,
    "hideHardwareSpecs": false,
    "memoryGiB": 256,
    "name": "ml.g4dn.16xlarge",
    "vcpuNum": 64
   },
   {
    "_defaultOrder": 35,
    "_isFastLaunch": false,
    "category": "Accelerated computing",
    "gpuNum": 1,
    "hideHardwareSpecs": false,
    "memoryGiB": 61,
    "name": "ml.p3.2xlarge",
    "vcpuNum": 8
   },
   {
    "_defaultOrder": 36,
    "_isFastLaunch": false,
    "category": "Accelerated computing",
    "gpuNum": 4,
    "hideHardwareSpecs": false,
    "memoryGiB": 244,
    "name": "ml.p3.8xlarge",
    "vcpuNum": 32
   },
   {
    "_defaultOrder": 37,
    "_isFastLaunch": false,
    "category": "Accelerated computing",
    "gpuNum": 8,
    "hideHardwareSpecs": false,
    "memoryGiB": 488,
    "name": "ml.p3.16xlarge",
    "vcpuNum": 64
   },
   {
    "_defaultOrder": 38,
    "_isFastLaunch": false,
    "category": "Accelerated computing",
    "gpuNum": 8,
    "hideHardwareSpecs": false,
    "memoryGiB": 768,
    "name": "ml.p3dn.24xlarge",
    "vcpuNum": 96
   },
   {
    "_defaultOrder": 39,
    "_isFastLaunch": false,
    "category": "Memory Optimized",
    "gpuNum": 0,
    "hideHardwareSpecs": false,
    "memoryGiB": 16,
    "name": "ml.r5.large",
    "vcpuNum": 2
   },
   {
    "_defaultOrder": 40,
    "_isFastLaunch": false,
    "category": "Memory Optimized",
    "gpuNum": 0,
    "hideHardwareSpecs": false,
    "memoryGiB": 32,
    "name": "ml.r5.xlarge",
    "vcpuNum": 4
   },
   {
    "_defaultOrder": 41,
    "_isFastLaunch": false,
    "category": "Memory Optimized",
    "gpuNum": 0,
    "hideHardwareSpecs": false,
    "memoryGiB": 64,
    "name": "ml.r5.2xlarge",
    "vcpuNum": 8
   },
   {
    "_defaultOrder": 42,
    "_isFastLaunch": false,
    "category": "Memory Optimized",
    "gpuNum": 0,
    "hideHardwareSpecs": false,
    "memoryGiB": 128,
    "name": "ml.r5.4xlarge",
    "vcpuNum": 16
   },
   {
    "_defaultOrder": 43,
    "_isFastLaunch": false,
    "category": "Memory Optimized",
    "gpuNum": 0,
    "hideHardwareSpecs": false,
    "memoryGiB": 256,
    "name": "ml.r5.8xlarge",
    "vcpuNum": 32
   },
   {
    "_defaultOrder": 44,
    "_isFastLaunch": false,
    "category": "Memory Optimized",
    "gpuNum": 0,
    "hideHardwareSpecs": false,
    "memoryGiB": 384,
    "name": "ml.r5.12xlarge",
    "vcpuNum": 48
   },
   {
    "_defaultOrder": 45,
    "_isFastLaunch": false,
    "category": "Memory Optimized",
    "gpuNum": 0,
    "hideHardwareSpecs": false,
    "memoryGiB": 512,
    "name": "ml.r5.16xlarge",
    "vcpuNum": 64
   },
   {
    "_defaultOrder": 46,
    "_isFastLaunch": false,
    "category": "Memory Optimized",
    "gpuNum": 0,
    "hideHardwareSpecs": false,
    "memoryGiB": 768,
    "name": "ml.r5.24xlarge",
    "vcpuNum": 96
   },
   {
    "_defaultOrder": 47,
    "_isFastLaunch": false,
    "category": "Accelerated computing",
    "gpuNum": 1,
    "hideHardwareSpecs": false,
    "memoryGiB": 16,
    "name": "ml.g5.xlarge",
    "vcpuNum": 4
   },
   {
    "_defaultOrder": 48,
    "_isFastLaunch": false,
    "category": "Accelerated computing",
    "gpuNum": 1,
    "hideHardwareSpecs": false,
    "memoryGiB": 32,
    "name": "ml.g5.2xlarge",
    "vcpuNum": 8
   },
   {
    "_defaultOrder": 49,
    "_isFastLaunch": false,
    "category": "Accelerated computing",
    "gpuNum": 1,
    "hideHardwareSpecs": false,
    "memoryGiB": 64,
    "name": "ml.g5.4xlarge",
    "vcpuNum": 16
   },
   {
    "_defaultOrder": 50,
    "_isFastLaunch": false,
    "category": "Accelerated computing",
    "gpuNum": 1,
    "hideHardwareSpecs": false,
    "memoryGiB": 128,
    "name": "ml.g5.8xlarge",
    "vcpuNum": 32
   },
   {
    "_defaultOrder": 51,
    "_isFastLaunch": false,
    "category": "Accelerated computing",
    "gpuNum": 1,
    "hideHardwareSpecs": false,
    "memoryGiB": 256,
    "name": "ml.g5.16xlarge",
    "vcpuNum": 64
   },
   {
    "_defaultOrder": 52,
    "_isFastLaunch": false,
    "category": "Accelerated computing",
    "gpuNum": 4,
    "hideHardwareSpecs": false,
    "memoryGiB": 192,
    "name": "ml.g5.12xlarge",
    "vcpuNum": 48
   },
   {
    "_defaultOrder": 53,
    "_isFastLaunch": false,
    "category": "Accelerated computing",
    "gpuNum": 4,
    "hideHardwareSpecs": false,
    "memoryGiB": 384,
    "name": "ml.g5.24xlarge",
    "vcpuNum": 96
   },
   {
    "_defaultOrder": 54,
    "_isFastLaunch": false,
    "category": "Accelerated computing",
    "gpuNum": 8,
    "hideHardwareSpecs": false,
    "memoryGiB": 768,
    "name": "ml.g5.48xlarge",
    "vcpuNum": 192
   },
   {
    "_defaultOrder": 55,
    "_isFastLaunch": false,
    "category": "Accelerated computing",
    "gpuNum": 8,
    "hideHardwareSpecs": false,
    "memoryGiB": 1152,
    "name": "ml.p4d.24xlarge",
    "vcpuNum": 96
   },
   {
    "_defaultOrder": 56,
    "_isFastLaunch": false,
    "category": "Accelerated computing",
    "gpuNum": 8,
    "hideHardwareSpecs": false,
    "memoryGiB": 1152,
    "name": "ml.p4de.24xlarge",
    "vcpuNum": 96
   },
   {
    "_defaultOrder": 57,
    "_isFastLaunch": false,
    "category": "Accelerated computing",
    "gpuNum": 0,
    "hideHardwareSpecs": false,
    "memoryGiB": 32,
    "name": "ml.trn1.2xlarge",
    "vcpuNum": 8
   },
   {
    "_defaultOrder": 58,
    "_isFastLaunch": false,
    "category": "Accelerated computing",
    "gpuNum": 0,
    "hideHardwareSpecs": false,
    "memoryGiB": 512,
    "name": "ml.trn1.32xlarge",
    "vcpuNum": 128
   },
   {
    "_defaultOrder": 59,
    "_isFastLaunch": false,
    "category": "Accelerated computing",
    "gpuNum": 0,
    "hideHardwareSpecs": false,
    "memoryGiB": 512,
    "name": "ml.trn1n.32xlarge",
    "vcpuNum": 128
   }
  ],
  "instance_type": "ml.t3.medium",
  "kernelspec": {
   "display_name": "Python 3 (ipykernel)",
   "language": "python",
   "name": "python3"
  },
  "language_info": {
   "codemirror_mode": {
    "name": "ipython",
    "version": 3
   },
   "file_extension": ".py",
   "mimetype": "text/x-python",
   "name": "python",
   "nbconvert_exporter": "python",
   "pygments_lexer": "ipython3",
   "version": "3.11.9"
  }
 },
 "nbformat": 4,
 "nbformat_minor": 4
}
