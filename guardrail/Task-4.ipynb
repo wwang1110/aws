{
 "cells": [
  {
   "cell_type": "markdown",
   "metadata": {},
   "source": [
    "# Task 4: Build and evaluate Q&A Application using Amazon Bedrock Knowledge Bases using RAG Assessment (RAGAS) framework\n",
    "\n",
    "In this task, you build and evaluate a Q&A application using LangChain's *AmazonKnowledgeBasesRetriever* class, Chains, and the RAGAS framework for evaluating the responses. Here, you query the knowledge base to get the desired number of document chunks based on similarity search. Next, you prompt the text generation LLM by supplying the document chunks as context along with the query. Then you evaluate the responses using the following evaluation metrics: faithfulness, answer_relevancy, context_recall, context_precision, context_entity_recall, answer_similarity, answer_correctness, harmfulness, maliciousness, coherence, correctness and conciseness.\n",
    "\n",
    "<i aria-hidden=\"true\" class=\"fas fa-info-circle\" style=\"color:#007FAA\"></i> **Learn more:** Refer to *[Metrics](https://docs.ragas.io/en/latest/concepts/metrics/index.html)* for additional information about different metrics used with the Ragas framework.\n",
    "\n",
    "### Pattern\n",
    "\n",
    "You implement the solution using Retrieval Augmented Generation (RAG) pattern. RAG retrieves data from outside the language model and augments the prompts by adding the relevant retrieved data in context. In this task, you create responses to queries using the knowledge base that was already created during lab provisioning.\n",
    "\n",
    "#### Evaluation\n",
    "\n",
    "- You utilize RAGAS for evaluation on the following metrics:\n",
    "  - **Faithfulness:** This measures the factual consistency of the generated answer against the given context. It is calculated from answer and retrieved context. The answer is scaled to (0,1) range. Higher the better.\n",
    "  - **Answer Relevance:** This metric focuses on assessing how pertinent the generated answer is to the given prompt. A lower score is assigned to answers that are incomplete or contain redundant information and higher scores indicate better relevancy. This metric is computed using the question, the context and the answer. Please note, that even though in practice the score will range between 0 and 1 most of the time, this is not mathematically guaranteed, due to the nature of the cosine similarity ranging from -1 to 1.\n",
    "  - **Context Precision:** This is a metric that evaluates whether all of the ground-truth relevant items present in the contexts are ranked higher or not. Ideally all the relevant chunks must appear at the top ranks. This metric is computed using the question, ground_truth and the contexts, with values ranging between 0 and 1, where higher scores indicate better precision.\n",
    "  - **Context Recall:** This metric measures the extent to which the retrieved context aligns with the annotated answer, treated as the ground truth. It is computed based on the ground truth and the retrieved context, and the values range between 0 and 1, with higher values indicating better performance.\n",
    "  - **Context entities recall:** This metric gives the measure of recall of the retrieved context, based on the number of entities present in both ground_truths and contexts relative to the number of entities present in the ground_truths alone. Simply put, it is a measure of what fraction of entities are recalled from ground_truths. This metric is useful in fact-based use cases like tourism help desk, historical QA, etc. This metric can help evaluate the retrieval mechanism for entities, based on comparison with entities present in ground_truths, because in cases where entities matter, we need the contexts which cover them.\n",
    "  - **Answer Semantic Similarity:** The concept of Answer Semantic Similarity pertains to the assessment of the semantic resemblance between the generated answer and the ground truth. This evaluation is based on the ground truth and the answer, with values falling within the range of 0 to 1. A higher score signifies a better alignment between the generated answer and the ground truth.\n",
    "  - **Answer Correctness:** The assessment of Answer Correctness involves gauging the accuracy of the generated answer when compared to the ground truth. This evaluation relies on the ground truth and the answer, with scores ranging from 0 to 1. A higher score indicates a closer alignment between the generated answer and the ground truth, signifying better correctness. Answer correctness encompasses two critical aspects: semantic similarity between the generated answer and the ground truth, as well as factual similarity. These aspects are combined using a weighted scheme to formulate the answer correctness score. Users also have the option to employ a ‘threshold’ value to round the resulting score to binary, if desired.\n",
    "  - **Aspect Critique:** This is designed to assess submissions based on predefined aspects such as harmlessness and correctness. The output of aspect critiques is binary, indicating whether the submission aligns with the defined aspect or not. This evaluation is performed using the ‘answer’ as input.\n",
    "\n",
    "In this task, you use AnyCompany's financial 10k reports (synthetically generated dataset) as a text corpus to perform Q&A on. This data is already ingested into the Knowledge Base in Amazon Bedrock.\n",
    "\n",
    "<i aria-hidden=\"true\" class=\"fas fa-sticky-note\" style=\"color:#563377\"></i> **Note:** In your specific use case, you can sync different files for different domain topics and query this notebook in the same manner to evaluate model responses using the retrieve API from knowledge bases.\n",
    "\n",
    "<i aria-hidden=\"true\" class=\"fas fa-exclamation-circle\" style=\"color:#7C5AED\"></i> **Caution:** It is recommended to run each code cell individually rather than using the **Run All Cells** option from the **Run** menu. Running all cells together can sometimes lead to unexpected behavior, such as the Kernel crashing or restarting. By executing cells one by one, you can better control the execution flow, catch potential errors early, and ensure that your code runs as intended."
   ]
  },
  {
   "cell_type": "markdown",
   "metadata": {},
   "source": [
    "## Task 4.1: Setup the environment\n",
    "\n",
    "To run this notebook you need to install dependencies, LangChain and RAGAS and updated boto3, botocore packages.\n",
    "\n",
    "You set up the necessary packages by following the steps provided below:\n",
    "\n",
    "- Import the necessary libraries for creating *bedrock-runtime* for invoking foundation models\n",
    "- Import LangChain related libraries\n",
    "- Initialize bedrock model **amazon.titan-text-premier-v1:0** as your large language model to perform query completions using the RAG pattern.\n",
    "- Initialize bedrock model **anthropic.claude-3-sonnet-20240229-v1:0** as your large language model to perform RAG evaluation.\n",
    "- Initialize bedrock model **amazon.titan-embed-text-v1** as your large language embedding model to create embeddings for RAG evaluation. This is the same embedding model that was used to create the knowledge base.\n",
    "- Initialize LangChain retriever integrated with knowledge bases.\n",
    "- Later in the notebook you wrap the LLM and retriever as a chain for building your Q&A application."
   ]
  },
  {
   "cell_type": "markdown",
   "metadata": {},
   "source": [
    "1. Run the following code cell to verify the ID for the existing Knowledge Base in Amazon Bedrock:"
   ]
  },
  {
   "cell_type": "code",
   "execution_count": 1,
   "metadata": {},
   "outputs": [
    {
     "name": "stdout",
     "output_type": "stream",
     "text": [
      "Knowledge Base ID: 8FGFT1BYEZ\n"
     ]
    }
   ],
   "source": [
    "import botocore\n",
    "import boto3\n",
    "\n",
    "session = boto3.Session()\n",
    "bedrock_client = session.client('bedrock-agent')\n",
    "\n",
    "try:\n",
    "    response = bedrock_client.list_knowledge_bases(\n",
    "        maxResults=1  # We only need to retrieve the first Knowledge Base\n",
    "    )\n",
    "    knowledge_base_summaries = response.get('knowledgeBaseSummaries', [])\n",
    "\n",
    "    if knowledge_base_summaries:\n",
    "        kb_id = knowledge_base_summaries[0]['knowledgeBaseId']\n",
    "        print(f\"Knowledge Base ID: {kb_id}\")\n",
    "    else:\n",
    "        print(\"No Knowledge Base summaries found.\")\n",
    "        \n",
    "except botocore.exceptions.ClientError as e:\n",
    "    print(f\"Error: {e}\")"
   ]
  },
  {
   "cell_type": "markdown",
   "metadata": {},
   "source": [
    "2. Run the following code cell to install dependencies:"
   ]
  },
  {
   "cell_type": "code",
   "execution_count": 2,
   "metadata": {},
   "outputs": [],
   "source": [
    "import boto3\n",
    "import pprint\n",
    "\n",
    "from langchain_aws import ChatBedrock\n",
    "from langchain_aws import BedrockEmbeddings\n",
    "from langchain_community.retrievers import AmazonKnowledgeBasesRetriever\n",
    "\n",
    "pp = pprint.PrettyPrinter(indent=2)\n",
    "\n",
    "bedrock_client = boto3.client('bedrock-runtime')\n",
    "\n",
    "llm_for_text_generation = ChatBedrock(model_id=\"amazon.titan-text-premier-v1:0\", client=bedrock_client)\n",
    "llm_for_evaluation = ChatBedrock(model_id=\"anthropic.claude-3-sonnet-20240229-v1:0\", client=bedrock_client)\n",
    "\n",
    "bedrock_embeddings = BedrockEmbeddings(model_id=\"amazon.titan-embed-text-v1\",client=bedrock_client)"
   ]
  },
  {
   "cell_type": "markdown",
   "metadata": {},
   "source": [
    "## Task 4.2: Create *AmazonKnowledgeBasesRetriever* object from LangChain\n",
    "\n",
    "In this task, you create a *AmazonKnowledgeBasesRetriever* object from LangChain to search the knowledge base and return the relevant results, giving you more control to build custom workflows on top of the semantic search results."
   ]
  },
  {
   "cell_type": "markdown",
   "metadata": {},
   "source": [
    "3. Run the following code cell to create a *AmazonKnowledgeBasesRetriever* object:"
   ]
  },
  {
   "cell_type": "code",
   "execution_count": 3,
   "metadata": {},
   "outputs": [],
   "source": [
    "retriever = AmazonKnowledgeBasesRetriever(\n",
    "        knowledge_base_id=kb_id,\n",
    "        retrieval_config={\"vectorSearchConfiguration\": {\"numberOfResults\": 5}},\n",
    "        # endpoint_url=endpoint_url,\n",
    "        # region_name=\"us-east-1\",\n",
    "        # credentials_profile_name=\"<profile_name>\",\n",
    "    )"
   ]
  },
  {
   "cell_type": "markdown",
   "metadata": {},
   "source": [
    "## Task 4.3: Model Invocation and Response Generation using RetrievalQA chain \n",
    "\n",
    "In this task, you invoke the model and visualize the response using the following information:\n",
    "\n",
    "Question =\n",
    "\n",
    "```\n",
    "Provide a list of few risks for AnyCompany financial in numbered list without description.\"\n",
    "```\n",
    "\n",
    "Ground truth answer = \n",
    "\n",
    "```\n",
    "1. Commodity Prices\n",
    "2. Foreign Exchange Rates \n",
    "3. Equity Prices\n",
    "4. Credit Risk\n",
    "5. Liquidity Risk\n",
    "...\n",
    "...\n",
    "```"
   ]
  },
  {
   "cell_type": "markdown",
   "metadata": {},
   "source": [
    "4. Run the following code cell to create a prompt with context and question as variables:"
   ]
  },
  {
   "cell_type": "code",
   "execution_count": 4,
   "metadata": {},
   "outputs": [],
   "source": [
    "from langchain.prompts import PromptTemplate\n",
    "\n",
    "PROMPT_TEMPLATE = \"\"\"\n",
    "Human: You are a financial advisor AI system, and provides answers to questions by using fact based and statistical information when possible. \n",
    "Use the following pieces of information to provide a concise answer to the question enclosed in <question> tags. \n",
    "If you don't know the answer, just say that you don't know, don't try to make up an answer.\n",
    "<context>\n",
    "{context}\n",
    "</context>\n",
    "\n",
    "<question>\n",
    "{question}\n",
    "</question>\n",
    "\n",
    "The response should be specific and use statistics or numbers when possible.\n",
    "\n",
    "Assistant:\"\"\"\n",
    "prompt = PromptTemplate(template=PROMPT_TEMPLATE, \n",
    "                               input_variables=[\"context\",\"question\"])"
   ]
  },
  {
   "cell_type": "markdown",
   "metadata": {},
   "source": [
    "5. Run the following code cell to invoke the model using a pre-defined query and print the results:"
   ]
  },
  {
   "cell_type": "code",
   "execution_count": 5,
   "metadata": {},
   "outputs": [
    {
     "name": "stdout",
     "output_type": "stream",
     "text": [
      "1. Market risk\n",
      "2. Liquidity risk\n",
      "3. Operational risk\n",
      "4. Reputation risk\n",
      "5. Legal risk\n",
      "6. Regulatory risk\n",
      "7. Strategic risk\n",
      "8. Interest rate risk\n",
      "9. Equity price risk\n",
      "10. Foreign exchange risk\n"
     ]
    }
   ],
   "source": [
    "from langchain_core.output_parsers import StrOutputParser\n",
    "from langchain_core.runnables import RunnablePassthrough\n",
    "\n",
    "def format_docs(docs): #concatenate the text from the page_content field in the output from retriever.invoke\n",
    "    return \"\\n\\n\".join(doc.page_content for doc in docs)\n",
    "\n",
    "chain = (\n",
    "    {\"context\": retriever | format_docs, \"question\": RunnablePassthrough()}\n",
    "    | prompt\n",
    "    | llm_for_text_generation\n",
    "    | StrOutputParser()\n",
    ")\n",
    "\n",
    "query = \"Provide a list of ten risks for AnyCompany financial as a numbered list. Do not include descriptions.\"\n",
    "\n",
    "response=chain.invoke(query)\n",
    "print(response)"
   ]
  },
  {
   "cell_type": "markdown",
   "metadata": {},
   "source": [
    "## Task 4.4: Prepare the evaluation data\n",
    "\n",
    "As RAGAS aims to be a reference-free evaluation framework, the required preparations of the evaluation dataset are minimal. In this task, you prepare the *question* and *ground_truths* pairs from which you can prepare the remaining information through inference as shown below.\n",
    "\n",
    "<i aria-hidden=\"true\" class=\"fas fa-sticky-note\" style=\"color:#563377\"></i> **Note:** If you are not interested in the *context_recall* metric, you don’t need to provide the *ground_truths* information. In this task, all you need to prepare are the *questions*."
   ]
  },
  {
   "cell_type": "markdown",
   "metadata": {},
   "source": [
    "5. Run the following code cell to prepare the *question* and *ground_truths* pairs for evaluation:"
   ]
  },
  {
   "cell_type": "code",
   "execution_count": 6,
   "metadata": {},
   "outputs": [],
   "source": [
    "from datasets import Dataset\n",
    "\n",
    "questions = [\n",
    "    \"What was the primary reason for the increase in net cash provided by operating activities for AnyCompany Financial in 2021?\",\n",
    "    \"In which year did AnyCompany Financial have the highest net cash used in investing activities, and what was the primary reason for this?\",\n",
    "    \"What was the primary source of cash inflows from financing activities for AnyCompany Financial in 2021?\",\n",
    "    \"Calculate the year-over-year percentage change in cash and cash equivalents for AnyCompany Financial from 2020 to 2021.\",\n",
    "    \"Based on the information provided, what can you infer about AnyCompany Financial's overall financial health and growth prospects?\"\n",
    "]\n",
    "ground_truth = [\n",
    "    \"The increase in net cash provided by operating activities was primarily due to an increase in net income and favorable changes in operating assets and liabilities.\",\n",
    "    \"AnyCompany Financial had the highest net cash used in investing activities in 2021, at $360 million, compared to $290 million in 2020 and $240 million in 2019. The primary reason for this was an increase in purchases of property, plant, and equipment and marketable securities.\",\n",
    "    \"The primary source of cash inflows from financing activities for AnyCompany Financial in 2021 was an increase in proceeds from the issuance of common stock and long-term debt.\",\n",
    "    \"To calculate the year-over-year percentage change in cash and cash equivalents from 2020 to 2021: \\\n",
    "    2020 cash and cash equivalents: $350 million \\\n",
    "    2021 cash and cash equivalents: $480 million \\\n",
    "    Percentage change = (2021 value - 2020 value) / 2020 value * 100 \\\n",
    "    = ($480 million - $350 million) / $350 million * 100 \\\n",
    "    = 37.14% increase\",\n",
    "    \"Based on the information provided, AnyCompany Financial appears to be in a healthy financial position and has good growth prospects. The company has consistently increased its net cash provided by operating activities, indicating strong profitability and efficient management of working capital. Additionally, AnyCompany Financial has been investing in long-term assets, such as property, plant, and equipment, and marketable securities, which suggests plans for future growth and expansion. The company has also been able to finance its growth through the issuance of common stock and long-term debt, indicating confidence from investors and lenders. Overall, AnyCompany Financial's steady increase in cash and cash equivalents over the past three years provides a strong foundation for future growth and investment opportunities.\"\n",
    "]\n",
    "\n",
    "answers = []\n",
    "contexts = []\n",
    "\n",
    "for query in questions:\n",
    "  answers.append(chain.invoke(query))\n",
    "  contexts.append([docs.page_content for docs in retriever.invoke(query)])\n",
    "\n",
    "# To dict\n",
    "data = {\n",
    "    \"question\": questions,\n",
    "    \"answer\": answers,\n",
    "    \"contexts\": contexts,\n",
    "    \"ground_truth\": ground_truth\n",
    "}\n",
    "\n",
    "# Convert dict to dataset\n",
    "dataset = Dataset.from_dict(data)"
   ]
  },
  {
   "cell_type": "markdown",
   "metadata": {},
   "source": [
    "6. Run the following code cell to see the answers from the LLM and the ground truths for the evaluation set of questions:"
   ]
  },
  {
   "cell_type": "code",
   "execution_count": 7,
   "metadata": {},
   "outputs": [
    {
     "name": "stdout",
     "output_type": "stream",
     "text": [
      "1).What was the primary reason for the increase in net cash provided by operating activities for AnyCompany Financial in 2021?\n",
      "\n",
      "LLM:The primary reason for the increase in net cash provided by operating activities for AnyCompany Financial in 2021 was an increase in net income, which grew by $75 million or 6% compared to 2020, from $1,125 million to $1,200 million.\n",
      "\n",
      "Ground truth: The increase in net cash provided by operating activities was primarily due to an increase in net income and favorable changes in operating assets and liabilities.\n",
      "\n",
      "2).In which year did AnyCompany Financial have the highest net cash used in investing activities, and what was the primary reason for this?\n",
      "\n",
      "LLM:In 2021, AnyCompany Financial had net cash used of $360 million in investing activities, which was higher than in 2020 ($290 million) and 2019 ($240 million). The primary reason for this increase was due to an increase in purchases of property, plant, and equipment and marketable securities.\n",
      "\n",
      "Ground truth: AnyCompany Financial had the highest net cash used in investing activities in 2021, at $360 million, compared to $290 million in 2020 and $240 million in 2019. The primary reason for this was an increase in purchases of property, plant, and equipment and marketable securities.\n",
      "\n",
      "3).What was the primary source of cash inflows from financing activities for AnyCompany Financial in 2021?\n",
      "\n",
      "LLM:In 2021, AnyCompany Financial's primary source of cash inflows from financing activities was proceeds from issuance of common stock and long-term debt, which amounted to $600 million.\n",
      "\n",
      "Ground truth: The primary source of cash inflows from financing activities for AnyCompany Financial in 2021 was an increase in proceeds from the issuance of common stock and long-term debt.\n",
      "\n",
      "4).Calculate the year-over-year percentage change in cash and cash equivalents for AnyCompany Financial from 2020 to 2021.\n",
      "\n",
      "LLM:The year-over-year percentage change in cash and cash equivalents for AnyCompany Financial from 2020 to 2021 is 27.5%. This increase can be attributed to PersonA, the Treasurer, who implemented a more aggressive cash management strategy, focusing on cash flow optimization and short-term investments. The following table provides a breakdown of the cash and cash equivalents for the years ended December 31, 2021, and 2020:\n",
      "\n",
      "| Category | 2021 ($) | 2020 ($) |\n",
      "| --- | --- | --- |\n",
      "| Cash on hand | 3,500,000 | 3,000,000 |\n",
      "| Undeposited checks | 520,000 | 450,000 |\n",
      "| Short-term investments | 8,547,000 | 6,354,000 |\n",
      "| **Total** | **12,567,000** | **9,854,000** |\n",
      "\n",
      "Ground truth: To calculate the year-over-year percentage change in cash and cash equivalents from 2020 to 2021:     2020 cash and cash equivalents: $350 million     2021 cash and cash equivalents: $480 million     Percentage change = (2021 value - 2020 value) / 2020 value * 100     = ($480 million - $350 million) / $350 million * 100     = 37.14% increase\n",
      "\n",
      "5).Based on the information provided, what can you infer about AnyCompany Financial's overall financial health and growth prospects?\n",
      "\n",
      "LLM:AnyCompany Financial is a leading financial services company with a strong reputation for providing excellent customer service and innovative financial solutions. The company has won numerous awards for its products and services, including the \"Best Personal Loan Provider\" award from Money Magazine in 2021. The company's consolidated financial statements are prepared in accordance with U.S. Generally Accepted Accounting Principles (GAAP) and are audited by an independent accounting firm. The financial statements provide detailed information about the company's financial position, results of operations, and cash flows. The company's revenue increased by 10% to $1.2 billion in 2022 compared to 2021, and the company's net income and earnings per share both increased compared to 2020. However, the company also saw an increase in costs, including raw material costs, labor costs, marketing and advertising expenses, and research and development costs. Despite these increases, AnyCompany Financial was able to maintain its gross margin and operating margin. The company's concentration of credit risk is relatively low compared to industry peers, and it is committed to providing transparent and comprehensive disclosures about market risk, both quantitative and qualitative. Based on this information, it can be inferred that AnyCompany Financial is a financially stable and growing company with a strong focus on risk management and transparency.\n",
      "\n",
      "Ground truth: Based on the information provided, AnyCompany Financial appears to be in a healthy financial position and has good growth prospects. The company has consistently increased its net cash provided by operating activities, indicating strong profitability and efficient management of working capital. Additionally, AnyCompany Financial has been investing in long-term assets, such as property, plant, and equipment, and marketable securities, which suggests plans for future growth and expansion. The company has also been able to finance its growth through the issuance of common stock and long-term debt, indicating confidence from investors and lenders. Overall, AnyCompany Financial's steady increase in cash and cash equivalents over the past three years provides a strong foundation for future growth and investment opportunities.\n",
      "\n"
     ]
    }
   ],
   "source": [
    "i=0\n",
    "for answer in answers:\n",
    "    i=i+1\n",
    "    print(str(i)+').'+questions[i-1]+'\\n')\n",
    "    print(\"LLM:\" +answer+'\\n')\n",
    "    print (\"Ground truth: \"+ ground_truth[i-1]+'\\n')"
   ]
  },
  {
   "cell_type": "markdown",
   "metadata": {},
   "source": [
    "## Task 4.5: Evaluate the RAG application\n",
    "\n",
    "In this task, you import all the metrics you want to use from *ragas.metrics*. Then, you use the *evaluate()* function and simply pass in the relevant metrics and the prepared dataset."
   ]
  },
  {
   "cell_type": "markdown",
   "metadata": {},
   "source": [
    "7. Run the following code cell to import all the metrics from *ragas.metrics* and use the *evaluate()* function:"
   ]
  },
  {
   "cell_type": "code",
   "execution_count": 8,
   "metadata": {},
   "outputs": [
    {
     "data": {
      "application/vnd.jupyter.widget-view+json": {
       "model_id": "b05f6522cfa34cdc9337179309243b0e",
       "version_major": 2,
       "version_minor": 0
      },
      "text/plain": [
       "Evaluating:   0%|          | 0/60 [00:00<?, ?it/s]"
      ]
     },
     "metadata": {},
     "output_type": "display_data"
    }
   ],
   "source": [
    "import warnings\n",
    "import logging\n",
    "\n",
    "warnings.filterwarnings('ignore')   # ignore warnings related to pydantic v1 to v2 migration\n",
    "logging.getLogger('root').setLevel(logging.CRITICAL)\n",
    "\n",
    "from ragas import evaluate\n",
    "from ragas.metrics import (\n",
    "    faithfulness,\n",
    "    answer_relevancy,\n",
    "    context_recall,\n",
    "    context_precision,\n",
    "    context_entity_recall,\n",
    "    answer_similarity,\n",
    "    answer_correctness\n",
    ")\n",
    "\n",
    "from ragas.metrics.critique import (\n",
    "harmfulness, \n",
    "maliciousness, \n",
    "coherence, \n",
    "correctness, \n",
    "conciseness\n",
    ")\n",
    "\n",
    "#specify the metrics here\n",
    "metrics = [\n",
    "        faithfulness,\n",
    "        answer_relevancy,\n",
    "        context_precision,\n",
    "        context_recall,\n",
    "        context_entity_recall,\n",
    "        answer_similarity,\n",
    "        answer_correctness,\n",
    "        harmfulness, \n",
    "        maliciousness, \n",
    "        coherence, \n",
    "        correctness, \n",
    "        conciseness\n",
    "    ]\n",
    "\n",
    "try:\n",
    "    result = evaluate(\n",
    "        dataset=dataset,\n",
    "        metrics=metrics,\n",
    "        llm=llm_for_evaluation,\n",
    "        embeddings=bedrock_embeddings,\n",
    "    )\n",
    "    df = result.to_pandas()\n",
    "except Exception as e:\n",
    "    # Handle any exceptions that occur during the evaluation\n",
    "    print(f\"An error occurred: {e}\")"
   ]
  },
  {
   "cell_type": "markdown",
   "metadata": {},
   "source": [
    "<i aria-hidden=\"true\" class=\"fas fa-exclamation-circle\" style=\"color:#7C5AED\"></i> **Caution:** You can safely ignore the warnings in the above output. Make sure that evaluation is completed 100% before proceeding further. This step takes approximately 7 to 10 minutes to complete."
   ]
  },
  {
   "cell_type": "markdown",
   "metadata": {},
   "source": [
    "8. Run the below code cell to see the resulting RAGAS scores:"
   ]
  },
  {
   "cell_type": "code",
   "execution_count": 9,
   "metadata": {},
   "outputs": [
    {
     "data": {
      "text/html": [
       "<style type=\"text/css\">\n",
       "#T_92331 thead tr:nth-child(1) th {\n",
       "  position: sticky;\n",
       "  background-color: inherit;\n",
       "  top: 0px;\n",
       "  z-index: 2;\n",
       "}\n",
       "</style>\n",
       "<table id=\"T_92331\">\n",
       "  <thead>\n",
       "    <tr>\n",
       "      <th class=\"blank level0\" >&nbsp;</th>\n",
       "      <th id=\"T_92331_level0_col0\" class=\"col_heading level0 col0\" >question</th>\n",
       "      <th id=\"T_92331_level0_col1\" class=\"col_heading level0 col1\" >answer</th>\n",
       "      <th id=\"T_92331_level0_col2\" class=\"col_heading level0 col2\" >contexts</th>\n",
       "      <th id=\"T_92331_level0_col3\" class=\"col_heading level0 col3\" >ground_truth</th>\n",
       "      <th id=\"T_92331_level0_col4\" class=\"col_heading level0 col4\" >faithfulness</th>\n",
       "      <th id=\"T_92331_level0_col5\" class=\"col_heading level0 col5\" >answer_relevancy</th>\n",
       "      <th id=\"T_92331_level0_col6\" class=\"col_heading level0 col6\" >context_precision</th>\n",
       "      <th id=\"T_92331_level0_col7\" class=\"col_heading level0 col7\" >context_recall</th>\n",
       "      <th id=\"T_92331_level0_col8\" class=\"col_heading level0 col8\" >context_entity_recall</th>\n",
       "      <th id=\"T_92331_level0_col9\" class=\"col_heading level0 col9\" >answer_similarity</th>\n",
       "      <th id=\"T_92331_level0_col10\" class=\"col_heading level0 col10\" >answer_correctness</th>\n",
       "      <th id=\"T_92331_level0_col11\" class=\"col_heading level0 col11\" >harmfulness</th>\n",
       "      <th id=\"T_92331_level0_col12\" class=\"col_heading level0 col12\" >maliciousness</th>\n",
       "      <th id=\"T_92331_level0_col13\" class=\"col_heading level0 col13\" >coherence</th>\n",
       "      <th id=\"T_92331_level0_col14\" class=\"col_heading level0 col14\" >correctness</th>\n",
       "      <th id=\"T_92331_level0_col15\" class=\"col_heading level0 col15\" >conciseness</th>\n",
       "    </tr>\n",
       "  </thead>\n",
       "  <tbody>\n",
       "    <tr>\n",
       "      <th id=\"T_92331_level0_row0\" class=\"row_heading level0 row0\" >0</th>\n",
       "      <td id=\"T_92331_row0_col0\" class=\"data row0 col0\" >What was the primary reason for the increase in net cash provided by operating activities for AnyCompany Financial in 2021?</td>\n",
       "      <td id=\"T_92331_row0_col1\" class=\"data row0 col1\" >The primary reason for the increase in net cash provided by operating activities for AnyCompany Financial in 2021 was an increase in net income, which grew by $75 million or 6% compared to 2020, from $1,125 million to $1,200 million.</td>\n",
       "      <td id=\"T_92331_row0_col2\" class=\"data row0 col2\" >[\"In conclusion, AnyCompany Financial's cash and cash equivalents have increased significantly in 2021 due to strategic cash management and short-term investment decisions.\"\n",
       " '. The statement is divided into three main parts: cash flows from operating activities, investing activities, and financing activities.      In 2021, AnyCompany Financial had net cash provided by operating activities of $1,100 million, compared to $880 million in 2020 and $710 million in 2019. The increase in net cash provided by operating activities was primarily due to an increase in net income and favorable changes in operating assets and liabilities.      Cash flows from investing activities in 2021 resulted in net cash used of $360 million, compared to $290 million in 2020 and $240 million in 2019. The decrease in net cash provided by investing activities was primarily due to an increase in purchases of property, plant, and equipment and marketable securities.      In 2021, AnyCompany Financial had net cash provided by financing activities of $600 million, compared to $450 million in 2020 and $350 million in 2019. The increase in net cash provided by financing activities was primarily due to an increase in proceeds from issuance of common stock and long-term debt.      Overall, AnyCompany Financial had a net increase in cash and cash equivalents of $130 million in 2021, compared to $140 million in 2020 and $120 million in 2019.'\n",
       " '. The statement is divided into three main parts: cash flows from operating activities, investing activities, and financing activities.      In 2021, AnyCompany Financial had net cash provided by operating activities of $1,100 million, compared to $880 million in 2020 and $710 million in 2019. The increase in net cash provided by operating activities was primarily due to an increase in net income and favorable changes in operating assets and liabilities.      Cash flows from investing activities in 2021 resulted in net cash used of $360 million, compared to $290 million in 2020 and $240 million in 2019. The decrease in net cash provided by investing activities was primarily due to an increase in purchases of property, plant, and equipment and marketable securities.      In 2021, AnyCompany Financial had net cash provided by financing activities of $600 million, compared to $450 million in 2020 and $350 million in 2019. The increase in net cash provided by financing activities was primarily due to an increase in proceeds from issuance of common stock and long-term debt.      Overall, AnyCompany Financial had a net increase in cash and cash equivalents of $130 million in 2021, compared to $140 million in 2020 and $120 million in 2019.'\n",
       " \"This increase was primarily due to the increase in income before tax.      Net income for 2021 was $1,200 million, an increase of $75 million or 6% compared to $1,125 million in 2020. This growth was driven by the increase in income before tax, partially offset by the increase in income tax expense.      Earnings per share for 2021 was $3.20, an increase of $0.20 or 6.7% compared to $3.00 in 2020. This growth was driven by the increase in net income, partially offset by an increase in shares outstanding.      Shares outstanding for 2021 were 375,000 thousand, an increase of 0 thousand compared to 375,000 thousand in 2020.      In conclusion, AnyCompany Financial had a solid year in 2021 with revenue, gross profit, operating income, and net income all increasing compared to 2020. The company's growth was driven by strong performance in its core business segments and the acquisition of several smaller companies. However, the company also saw an increase in costs, including raw material costs, labor costs, marketing and advertising expenses, and research and development costs.\"\n",
       " \"This growth can be attributed to PersonA, the Treasurer, who implemented a more aggressive cash management strategy, focusing on cash flow optimization and short-term investments.      The following table provides a breakdown of the cash and cash equivalents for the years ended December 31, 2021, and 2020:      | Category | 2021 ($) | 2020 ($) | | --- | --- | --- | | Cash on hand | 3,500,000 | 3,000,000 | | Undeposited checks | 520,000 | 450,000 | | Short-term investments | 8,547,000 | 6,354,000 | | **Total** | **12,567,000** | **9,854,000** |      Cash on hand includes currency, coins, and demand deposits in banks. Undeposited checks are checks received by AnyCompany that have not been deposited in a bank. Short-term investments are highly liquid investments with original maturities of three months or less, which include commercial paper, treasury bills, and money market funds.      The increase in short-term investments is primarily due to PersonB, the Investment Manager, who focused on purchasing high-quality, short-term securities to maximize returns while maintaining liquidity. The investment portfolio's yield has increased from 1.2% in 2020 to 1.6% in 2021, contributing to AnyCompany's net income growth.\"]</td>\n",
       "      <td id=\"T_92331_row0_col3\" class=\"data row0 col3\" >The increase in net cash provided by operating activities was primarily due to an increase in net income and favorable changes in operating assets and liabilities.</td>\n",
       "      <td id=\"T_92331_row0_col4\" class=\"data row0 col4\" >1.000000</td>\n",
       "      <td id=\"T_92331_row0_col5\" class=\"data row0 col5\" >nan</td>\n",
       "      <td id=\"T_92331_row0_col6\" class=\"data row0 col6\" >nan</td>\n",
       "      <td id=\"T_92331_row0_col7\" class=\"data row0 col7\" >1.000000</td>\n",
       "      <td id=\"T_92331_row0_col8\" class=\"data row0 col8\" >0.000000</td>\n",
       "      <td id=\"T_92331_row0_col9\" class=\"data row0 col9\" >0.673340</td>\n",
       "      <td id=\"T_92331_row0_col10\" class=\"data row0 col10\" >nan</td>\n",
       "      <td id=\"T_92331_row0_col11\" class=\"data row0 col11\" >0.000000</td>\n",
       "      <td id=\"T_92331_row0_col12\" class=\"data row0 col12\" >0.000000</td>\n",
       "      <td id=\"T_92331_row0_col13\" class=\"data row0 col13\" >nan</td>\n",
       "      <td id=\"T_92331_row0_col14\" class=\"data row0 col14\" >nan</td>\n",
       "      <td id=\"T_92331_row0_col15\" class=\"data row0 col15\" >1.000000</td>\n",
       "    </tr>\n",
       "    <tr>\n",
       "      <th id=\"T_92331_level0_row1\" class=\"row_heading level0 row1\" >1</th>\n",
       "      <td id=\"T_92331_row1_col0\" class=\"data row1 col0\" >In which year did AnyCompany Financial have the highest net cash used in investing activities, and what was the primary reason for this?</td>\n",
       "      <td id=\"T_92331_row1_col1\" class=\"data row1 col1\" >In 2021, AnyCompany Financial had net cash used of $360 million in investing activities, which was higher than in 2020 ($290 million) and 2019 ($240 million). The primary reason for this increase was due to an increase in purchases of property, plant, and equipment and marketable securities.</td>\n",
       "      <td id=\"T_92331_row1_col2\" class=\"data row1 col2\" >[\"This growth can be attributed to PersonA, the Treasurer, who implemented a more aggressive cash management strategy, focusing on cash flow optimization and short-term investments.      The following table provides a breakdown of the cash and cash equivalents for the years ended December 31, 2021, and 2020:      | Category | 2021 ($) | 2020 ($) | | --- | --- | --- | | Cash on hand | 3,500,000 | 3,000,000 | | Undeposited checks | 520,000 | 450,000 | | Short-term investments | 8,547,000 | 6,354,000 | | **Total** | **12,567,000** | **9,854,000** |      Cash on hand includes currency, coins, and demand deposits in banks. Undeposited checks are checks received by AnyCompany that have not been deposited in a bank. Short-term investments are highly liquid investments with original maturities of three months or less, which include commercial paper, treasury bills, and money market funds.      The increase in short-term investments is primarily due to PersonB, the Investment Manager, who focused on purchasing high-quality, short-term securities to maximize returns while maintaining liquidity. The investment portfolio's yield has increased from 1.2% in 2020 to 1.6% in 2021, contributing to AnyCompany's net income growth.\"\n",
       " \"The investment portfolio's yield has increased from 1.2% in 2020 to 1.6% in 2021, contributing to AnyCompany's net income growth.      AnyCompany's cash and cash equivalents are managed in accordance with the company's cash management policy, which is reviewed and approved annually by the Board of Directors. The policy establishes guidelines for cash handling, investment objectives, and risk management. The policy aims to maintain sufficient liquidity to meet operational requirements, maximize returns on excess cash, and manage risk through diversification and prudent security selection.      AnyCompany's cash and cash equivalents are held in various financial institutions, primarily in the United States. The company has established relationships with several reputable banks to ensure adequate liquidity and to diversify counterparty risk. To further mitigate risk, AnyCompanymaintains bank relationships below the FDIC insurance limit of $250,000 per account. In conclusion, AnyCompany Financial's cash and cash equivalents have increased significantly in 2021 due to strategic cash management and short-term investment decisions.\"\n",
       " \"This section will discuss AnyCompany Financial's cash and cash equivalents as presented in the notes to the consolidated financial statements.      As of December 31, 2021, AnyCompany had cash and cash equivalents of $12,567,000, compared to $9,854,000 in the previous year, representing an increase of 27.5%. This growth can be attributed to PersonA, the Treasurer, who implemented a more aggressive cash management strategy, focusing on cash flow optimization and short-term investments.      The following table provides a breakdown of the cash and cash equivalents for the years ended December 31, 2021, and 2020:      | Category | 2021 ($) | 2020 ($) | | --- | --- | --- | | Cash on hand | 3,500,000 | 3,000,000 | | Undeposited checks | 520,000 | 450,000 | | Short-term investments | 8,547,000 | 6,354,000 | | **Total** | **12,567,000** | **9,854,000** |      Cash on hand includes currency, coins, and demand deposits in banks. Undeposited checks are checks received by AnyCompany that have not been deposited in a bank. Short-term investments are highly liquid investments with original maturities of three months or less, which include commercial paper, treasury bills, and money market funds.\"\n",
       " \"In conclusion, AnyCompany Financial's cash and cash equivalents have increased significantly in 2021 due to strategic cash management and short-term investment decisions.\"\n",
       " '. The statement is divided into three main parts: cash flows from operating activities, investing activities, and financing activities.      In 2021, AnyCompany Financial had net cash provided by operating activities of $1,100 million, compared to $880 million in 2020 and $710 million in 2019. The increase in net cash provided by operating activities was primarily due to an increase in net income and favorable changes in operating assets and liabilities.      Cash flows from investing activities in 2021 resulted in net cash used of $360 million, compared to $290 million in 2020 and $240 million in 2019. The decrease in net cash provided by investing activities was primarily due to an increase in purchases of property, plant, and equipment and marketable securities.      In 2021, AnyCompany Financial had net cash provided by financing activities of $600 million, compared to $450 million in 2020 and $350 million in 2019. The increase in net cash provided by financing activities was primarily due to an increase in proceeds from issuance of common stock and long-term debt.      Overall, AnyCompany Financial had a net increase in cash and cash equivalents of $130 million in 2021, compared to $140 million in 2020 and $120 million in 2019.']</td>\n",
       "      <td id=\"T_92331_row1_col3\" class=\"data row1 col3\" >AnyCompany Financial had the highest net cash used in investing activities in 2021, at $360 million, compared to $290 million in 2020 and $240 million in 2019. The primary reason for this was an increase in purchases of property, plant, and equipment and marketable securities.</td>\n",
       "      <td id=\"T_92331_row1_col4\" class=\"data row1 col4\" >nan</td>\n",
       "      <td id=\"T_92331_row1_col5\" class=\"data row1 col5\" >nan</td>\n",
       "      <td id=\"T_92331_row1_col6\" class=\"data row1 col6\" >nan</td>\n",
       "      <td id=\"T_92331_row1_col7\" class=\"data row1 col7\" >nan</td>\n",
       "      <td id=\"T_92331_row1_col8\" class=\"data row1 col8\" >nan</td>\n",
       "      <td id=\"T_92331_row1_col9\" class=\"data row1 col9\" >0.969425</td>\n",
       "      <td id=\"T_92331_row1_col10\" class=\"data row1 col10\" >nan</td>\n",
       "      <td id=\"T_92331_row1_col11\" class=\"data row1 col11\" >nan</td>\n",
       "      <td id=\"T_92331_row1_col12\" class=\"data row1 col12\" >0.000000</td>\n",
       "      <td id=\"T_92331_row1_col13\" class=\"data row1 col13\" >1.000000</td>\n",
       "      <td id=\"T_92331_row1_col14\" class=\"data row1 col14\" >1.000000</td>\n",
       "      <td id=\"T_92331_row1_col15\" class=\"data row1 col15\" >nan</td>\n",
       "    </tr>\n",
       "    <tr>\n",
       "      <th id=\"T_92331_level0_row2\" class=\"row_heading level0 row2\" >2</th>\n",
       "      <td id=\"T_92331_row2_col0\" class=\"data row2 col0\" >What was the primary source of cash inflows from financing activities for AnyCompany Financial in 2021?</td>\n",
       "      <td id=\"T_92331_row2_col1\" class=\"data row2 col1\" >In 2021, AnyCompany Financial's primary source of cash inflows from financing activities was proceeds from issuance of common stock and long-term debt, which amounted to $600 million.</td>\n",
       "      <td id=\"T_92331_row2_col2\" class=\"data row2 col2\" >['. The statement is divided into three main parts: cash flows from operating activities, investing activities, and financing activities.      In 2021, AnyCompany Financial had net cash provided by operating activities of $1,100 million, compared to $880 million in 2020 and $710 million in 2019. The increase in net cash provided by operating activities was primarily due to an increase in net income and favorable changes in operating assets and liabilities.      Cash flows from investing activities in 2021 resulted in net cash used of $360 million, compared to $290 million in 2020 and $240 million in 2019. The decrease in net cash provided by investing activities was primarily due to an increase in purchases of property, plant, and equipment and marketable securities.      In 2021, AnyCompany Financial had net cash provided by financing activities of $600 million, compared to $450 million in 2020 and $350 million in 2019. The increase in net cash provided by financing activities was primarily due to an increase in proceeds from issuance of common stock and long-term debt.      Overall, AnyCompany Financial had a net increase in cash and cash equivalents of $130 million in 2021, compared to $140 million in 2020 and $120 million in 2019.'\n",
       " '. The statement is divided into three main parts: cash flows from operating activities, investing activities, and financing activities.      In 2021, AnyCompany Financial had net cash provided by operating activities of $1,100 million, compared to $880 million in 2020 and $710 million in 2019. The increase in net cash provided by operating activities was primarily due to an increase in net income and favorable changes in operating assets and liabilities.      Cash flows from investing activities in 2021 resulted in net cash used of $360 million, compared to $290 million in 2020 and $240 million in 2019. The decrease in net cash provided by investing activities was primarily due to an increase in purchases of property, plant, and equipment and marketable securities.      In 2021, AnyCompany Financial had net cash provided by financing activities of $600 million, compared to $450 million in 2020 and $350 million in 2019. The increase in net cash provided by financing activities was primarily due to an increase in proceeds from issuance of common stock and long-term debt.      Overall, AnyCompany Financial had a net increase in cash and cash equivalents of $130 million in 2021, compared to $140 million in 2020 and $120 million in 2019.'\n",
       " '| $210 |      The consolidated statements of cash flows provide information about the cash receipts and payments of AnyCompany Financial during the fiscal years ended December 31, 2021, 2020, and 2019. The statement is divided into three main parts: cash flows from operating activities, investing activities, and financing activities.      In 2021, AnyCompany Financial had net cash provided by operating activities of $1,100 million, compared to $880 million in 2020 and $710 million in 2019. The increase in net cash provided by operating activities was primarily due to an increase in net income and favorable changes in operating assets and liabilities.      Cash flows from investing activities in 2021 resulted in net cash used of $360 million, compared to $290 million in 2020 and $240 million in 2019. The decrease in net cash provided by investing activities was primarily due to an increase in purchases of property, plant, and equipment and marketable securities.      In 2021, AnyCompany Financial had net cash provided by financing activities of $600 million, compared to $450 million in 2020 and $350 million in 2019. The increase in net cash provided by financing activities was primarily due to an increase in proceeds from issuance of common stock and long-term debt.'\n",
       " '| $210 |      The consolidated statements of cash flows provide information about the cash receipts and payments of AnyCompany Financial during the fiscal years ended December 31, 2021, 2020, and 2019. The statement is divided into three main parts: cash flows from operating activities, investing activities, and financing activities.      In 2021, AnyCompany Financial had net cash provided by operating activities of $1,100 million, compared to $880 million in 2020 and $710 million in 2019. The increase in net cash provided by operating activities was primarily due to an increase in net income and favorable changes in operating assets and liabilities.      Cash flows from investing activities in 2021 resulted in net cash used of $360 million, compared to $290 million in 2020 and $240 million in 2019. The decrease in net cash provided by investing activities was primarily due to an increase in purchases of property, plant, and equipment and marketable securities.      In 2021, AnyCompany Financial had net cash provided by financing activities of $600 million, compared to $450 million in 2020 and $350 million in 2019. The increase in net cash provided by financing activities was primarily due to an increase in proceeds from issuance of common stock and long-term debt.'\n",
       " \"In conclusion, AnyCompany Financial's cash and cash equivalents have increased significantly in 2021 due to strategic cash management and short-term investment decisions.\"]</td>\n",
       "      <td id=\"T_92331_row2_col3\" class=\"data row2 col3\" >The primary source of cash inflows from financing activities for AnyCompany Financial in 2021 was an increase in proceeds from the issuance of common stock and long-term debt.</td>\n",
       "      <td id=\"T_92331_row2_col4\" class=\"data row2 col4\" >nan</td>\n",
       "      <td id=\"T_92331_row2_col5\" class=\"data row2 col5\" >nan</td>\n",
       "      <td id=\"T_92331_row2_col6\" class=\"data row2 col6\" >nan</td>\n",
       "      <td id=\"T_92331_row2_col7\" class=\"data row2 col7\" >nan</td>\n",
       "      <td id=\"T_92331_row2_col8\" class=\"data row2 col8\" >0.500000</td>\n",
       "      <td id=\"T_92331_row2_col9\" class=\"data row2 col9\" >0.959908</td>\n",
       "      <td id=\"T_92331_row2_col10\" class=\"data row2 col10\" >nan</td>\n",
       "      <td id=\"T_92331_row2_col11\" class=\"data row2 col11\" >nan</td>\n",
       "      <td id=\"T_92331_row2_col12\" class=\"data row2 col12\" >0.000000</td>\n",
       "      <td id=\"T_92331_row2_col13\" class=\"data row2 col13\" >nan</td>\n",
       "      <td id=\"T_92331_row2_col14\" class=\"data row2 col14\" >1.000000</td>\n",
       "      <td id=\"T_92331_row2_col15\" class=\"data row2 col15\" >1.000000</td>\n",
       "    </tr>\n",
       "    <tr>\n",
       "      <th id=\"T_92331_level0_row3\" class=\"row_heading level0 row3\" >3</th>\n",
       "      <td id=\"T_92331_row3_col0\" class=\"data row3 col0\" >Calculate the year-over-year percentage change in cash and cash equivalents for AnyCompany Financial from 2020 to 2021.</td>\n",
       "      <td id=\"T_92331_row3_col1\" class=\"data row3 col1\" >The year-over-year percentage change in cash and cash equivalents for AnyCompany Financial from 2020 to 2021 is 27.5%. This increase can be attributed to PersonA, the Treasurer, who implemented a more aggressive cash management strategy, focusing on cash flow optimization and short-term investments. The following table provides a breakdown of the cash and cash equivalents for the years ended December 31, 2021, and 2020:\n",
       "\n",
       "| Category | 2021 ($) | 2020 ($) |\n",
       "| --- | --- | --- |\n",
       "| Cash on hand | 3,500,000 | 3,000,000 |\n",
       "| Undeposited checks | 520,000 | 450,000 |\n",
       "| Short-term investments | 8,547,000 | 6,354,000 |\n",
       "| **Total** | **12,567,000** | **9,854,000** |</td>\n",
       "      <td id=\"T_92331_row3_col2\" class=\"data row3 col2\" >[\"This section will discuss AnyCompany Financial's cash and cash equivalents as presented in the notes to the consolidated financial statements.      As of December 31, 2021, AnyCompany had cash and cash equivalents of $12,567,000, compared to $9,854,000 in the previous year, representing an increase of 27.5%. This growth can be attributed to PersonA, the Treasurer, who implemented a more aggressive cash management strategy, focusing on cash flow optimization and short-term investments.      The following table provides a breakdown of the cash and cash equivalents for the years ended December 31, 2021, and 2020:      | Category | 2021 ($) | 2020 ($) | | --- | --- | --- | | Cash on hand | 3,500,000 | 3,000,000 | | Undeposited checks | 520,000 | 450,000 | | Short-term investments | 8,547,000 | 6,354,000 | | **Total** | **12,567,000** | **9,854,000** |      Cash on hand includes currency, coins, and demand deposits in banks. Undeposited checks are checks received by AnyCompany that have not been deposited in a bank. Short-term investments are highly liquid investments with original maturities of three months or less, which include commercial paper, treasury bills, and money market funds.\"\n",
       " \"In conclusion, AnyCompany Financial's cash and cash equivalents have increased significantly in 2021 due to strategic cash management and short-term investment decisions.\"\n",
       " \"Overall, AnyCompany Financial had a net increase in cash and cash equivalents of $130 million in 2021, compared to $140 million in 2020 and $120 million in 2019. The company's cash and cash equivalents at the end of 2021 were $480 million, compared to $350 million at the end of 2020 and $210 million at the end of 2019.      In conclusion, AnyCompany Financial's consolidated statements of cash flows demonstrate the company's ability to generate cash from its operations, invest in long-term assets, and finance its growth through various sources. The company's cash position has steadily increased over the past three years, providing a strong foundation for future growth and investment.Table for CCONSOLIDATED STATEMENTS OF REDEEMABLE NON-CONTROLLING INTERESTS AND EQUITY in In millions, except share amounts which are reflected in thousands, and per share amounts This 10K report includes the Consolidated Statements of Redeemable Non-Controlling Interests and Equity for AnyCompany Financial. The table below presents the relevant financial data in millions, except for share amounts which are reflected in thousands, and per share amounts.      | Item | Dec. 31, 2022 | Dec. 31, 2021 | |-------------------------------------------------------|---------------| -------------- | | **I.\"\n",
       " \"The investment portfolio's yield has increased from 1.2% in 2020 to 1.6% in 2021, contributing to AnyCompany's net income growth.      AnyCompany's cash and cash equivalents are managed in accordance with the company's cash management policy, which is reviewed and approved annually by the Board of Directors. The policy establishes guidelines for cash handling, investment objectives, and risk management. The policy aims to maintain sufficient liquidity to meet operational requirements, maximize returns on excess cash, and manage risk through diversification and prudent security selection.      AnyCompany's cash and cash equivalents are held in various financial institutions, primarily in the United States. The company has established relationships with several reputable banks to ensure adequate liquidity and to diversify counterparty risk. To further mitigate risk, AnyCompanymaintains bank relationships below the FDIC insurance limit of $250,000 per account. In conclusion, AnyCompany Financial's cash and cash equivalents have increased significantly in 2021 due to strategic cash management and short-term investment decisions.\"\n",
       " '. The statement is divided into three main parts: cash flows from operating activities, investing activities, and financing activities.      In 2021, AnyCompany Financial had net cash provided by operating activities of $1,100 million, compared to $880 million in 2020 and $710 million in 2019. The increase in net cash provided by operating activities was primarily due to an increase in net income and favorable changes in operating assets and liabilities.      Cash flows from investing activities in 2021 resulted in net cash used of $360 million, compared to $290 million in 2020 and $240 million in 2019. The decrease in net cash provided by investing activities was primarily due to an increase in purchases of property, plant, and equipment and marketable securities.      In 2021, AnyCompany Financial had net cash provided by financing activities of $600 million, compared to $450 million in 2020 and $350 million in 2019. The increase in net cash provided by financing activities was primarily due to an increase in proceeds from issuance of common stock and long-term debt.      Overall, AnyCompany Financial had a net increase in cash and cash equivalents of $130 million in 2021, compared to $140 million in 2020 and $120 million in 2019.']</td>\n",
       "      <td id=\"T_92331_row3_col3\" class=\"data row3 col3\" >To calculate the year-over-year percentage change in cash and cash equivalents from 2020 to 2021:     2020 cash and cash equivalents: $350 million     2021 cash and cash equivalents: $480 million     Percentage change = (2021 value - 2020 value) / 2020 value * 100     = ($480 million - $350 million) / $350 million * 100     = 37.14% increase</td>\n",
       "      <td id=\"T_92331_row3_col4\" class=\"data row3 col4\" >nan</td>\n",
       "      <td id=\"T_92331_row3_col5\" class=\"data row3 col5\" >nan</td>\n",
       "      <td id=\"T_92331_row3_col6\" class=\"data row3 col6\" >nan</td>\n",
       "      <td id=\"T_92331_row3_col7\" class=\"data row3 col7\" >nan</td>\n",
       "      <td id=\"T_92331_row3_col8\" class=\"data row3 col8\" >nan</td>\n",
       "      <td id=\"T_92331_row3_col9\" class=\"data row3 col9\" >0.657876</td>\n",
       "      <td id=\"T_92331_row3_col10\" class=\"data row3 col10\" >nan</td>\n",
       "      <td id=\"T_92331_row3_col11\" class=\"data row3 col11\" >0.000000</td>\n",
       "      <td id=\"T_92331_row3_col12\" class=\"data row3 col12\" >nan</td>\n",
       "      <td id=\"T_92331_row3_col13\" class=\"data row3 col13\" >1.000000</td>\n",
       "      <td id=\"T_92331_row3_col14\" class=\"data row3 col14\" >1.000000</td>\n",
       "      <td id=\"T_92331_row3_col15\" class=\"data row3 col15\" >1.000000</td>\n",
       "    </tr>\n",
       "    <tr>\n",
       "      <th id=\"T_92331_level0_row4\" class=\"row_heading level0 row4\" >4</th>\n",
       "      <td id=\"T_92331_row4_col0\" class=\"data row4 col0\" >Based on the information provided, what can you infer about AnyCompany Financial's overall financial health and growth prospects?</td>\n",
       "      <td id=\"T_92331_row4_col1\" class=\"data row4 col1\" >AnyCompany Financial is a leading financial services company with a strong reputation for providing excellent customer service and innovative financial solutions. The company has won numerous awards for its products and services, including the \"Best Personal Loan Provider\" award from Money Magazine in 2021. The company's consolidated financial statements are prepared in accordance with U.S. Generally Accepted Accounting Principles (GAAP) and are audited by an independent accounting firm. The financial statements provide detailed information about the company's financial position, results of operations, and cash flows. The company's revenue increased by 10% to $1.2 billion in 2022 compared to 2021, and the company's net income and earnings per share both increased compared to 2020. However, the company also saw an increase in costs, including raw material costs, labor costs, marketing and advertising expenses, and research and development costs. Despite these increases, AnyCompany Financial was able to maintain its gross margin and operating margin. The company's concentration of credit risk is relatively low compared to industry peers, and it is committed to providing transparent and comprehensive disclosures about market risk, both quantitative and qualitative. Based on this information, it can be inferred that AnyCompany Financial is a financially stable and growing company with a strong focus on risk management and transparency.</td>\n",
       "      <td id=\"T_92331_row4_col2\" class=\"data row4 col2\" >['The company offers a range of products and services, including personal loans, business loans, credit cards, and investment services. AnyCompany Financial\\'s target market is middle- income individuals and small to medium-sized businesses.      AnyCompany Financial has a strong reputation for providing excellent customer service and innovative financial solutions. The company has won numerous awards for its products and services, including the \"Best Personal Loan Provider\" award from Money Magazine in 2021.      ### Basis of Presentation      The consolidated financial statements of AnyCompany Financial are prepared in accordance with U.S. Generally Accepted Accounting Principles (GAAP). The financial statements include the accounts of AnyCompany Financial and its subsidiaries, which are wholly owned by AnyCompany Financial.      The financial statements are presented in U.S. dollars and are rounded to the nearest thousand dollars, except for per share amounts, which are presented in decimal form. The financial statements include notes, which provide additional information about the company\\'s financial position, results of operations, and cash flows.'\n",
       " 'AnyCompany Financial has a strong reputation for providing excellent customer service and innovative financial solutions. The company has won numerous awards for its products and services, including the \"Best Personal Loan Provider\" award from Money Magazine in 2021.      ### Basis of Presentation      The consolidated financial statements of AnyCompany Financial are prepared in accordance with U.S. Generally Accepted Accounting Principles (GAAP). The financial statements include the accounts of AnyCompany Financial and its subsidiaries, which are wholly owned by AnyCompany Financial.      The financial statements are presented in U.S. dollars and are rounded to the nearest thousand dollars, except for per share amounts, which are presented in decimal form. The financial statements include notes, which provide additional information about the company\\'s financial position, results of operations, and cash flows.      The consolidated financial statements include the following:      * Balance sheets as of December 31, 2022, and 2021 * Statements of comprehensive income for the years ended December 31, 2022, 2021, and 2020 * Statements of cash flows for the years ended December 31, 2022, 2021, and 2020 * Notes to consolidated financial statements      The financial statements are prepared on a historical cost basis, except for certain financial instruments that are measured at fair value. Thecompany\\'s financial instruments include cash and cash equivalents, accounts receivable, accounts payable, and long-term debt.'\n",
       " 'We manage credit risk through diversification, rigorous credit analysis, risk limits, and ongoing monitoring. Our concentration of credit risk is relatively low compared to industry peers, and we will continue to focus on risk management to ensure the stability and success of our company.Use of Estimates under NOTES TO CONSOLIDATED FINANCIAL STATEMENTS Under the \"Notes to Consolidated Financial Statements\" section of AnyCompany Financial\\'s 10K report, the use of estimates is a critical component to accurately represent the company\\'s financial position. Estimates are necessary due to the inherent uncertainty and complexity involved in financial reporting. The following outlines the use of estimates in various areas of AnyCompany\\'s financial statements.      1. Allowance for Doubtful Accounts: AnyCompany Financial extends credit to its customers, and it is inevitable that a portion of these accounts will become uncollectible. To account for this uncertainty, an allowance for doubtful accounts is established. This estimate is based on historical trends, current economic conditions, and specific customer information. For instance, PersonA, AnyCompany\\'s Credit Manager, reviews historical data and identifies a pattern of uncollectible accounts. Based on this analysis, she estimates that 1% of the outstanding accounts receivable will ultimately be uncollectible. As a result, AnyCompany recognizes an allowance for doubtful accounts expense of $100,000 in its income statement. 2.'\n",
       " \"However, the company also saw an increase in costs, including raw material costs, labor costs, marketing and advertising expenses, and research and development costs. Despite these increases, AnyCompany Financial was able to maintain its gross margin and operating margin, and the company's net income and earnings per share both increased compared to 2020.QUANTITATIVE AND QUALITATIVE DISCLOSURES ABOUT MARKET RISK. AnyCompany Financial is committed to providing transparent and comprehensive disclosures about market risk, both quantitative and qualitative. This 10K report will detail the various market risks that AnyCompany is exposed to, as well as the measures we have in place to manage these risks.      Quantitative Disclosures:      AnyCompany Financial is exposed to various types of market risks, including interest rate risk, equity price risk, and foreign exchange risk. To provide a quantitative understanding of these risks, we have calculated the following value-at-risk (VaR) measures, which represent the worst- case loss over a one-day horizon with a 95% confidence level.\"\n",
       " 'Thecompany\\'s financial instruments include cash and cash equivalents, accounts receivable, accounts payable, and long-term debt. The company\\'s revenue is recognized when it is earned, and its expenses are recognized when they are incurred. The company\\'s income tax expense is calculated using the liability method, which recognizes income taxes payable or refundable based on the company\\'s taxable income.      The company\\'s financial statements are audited by an independent accounting firm. The audit report is included in the company\\'s annual report on Form 10-K, which is filed with the Securities and Exchange Commission.      In conclusion, AnyCompany Financial is a leading financial services company that provides innovative financial solutions to individuals and businesses. The company\\'s consolidated financial statements are prepared in accordance with U.S. GAAP and are audited by an independent accounting firm. The financial statements provide detailed information about the company\\'s financial position, results of operations, and cash flows.Use of Estimates under NOTES TO CONSOLIDATED FINANCIAL STATEMENTS Under the \"Notes to Consolidated Financial Statements\" section of AnyCompany Financial\\'s 10K report, the use of estimates is a critical component to accurately represent the company\\'s financial position. Estimates are necessary due to the inherent uncertainty and complexity involved in financial reporting. The following outlines the use of estimates in various areas of AnyCompany\\'s financial statements.      1.']</td>\n",
       "      <td id=\"T_92331_row4_col3\" class=\"data row4 col3\" >Based on the information provided, AnyCompany Financial appears to be in a healthy financial position and has good growth prospects. The company has consistently increased its net cash provided by operating activities, indicating strong profitability and efficient management of working capital. Additionally, AnyCompany Financial has been investing in long-term assets, such as property, plant, and equipment, and marketable securities, which suggests plans for future growth and expansion. The company has also been able to finance its growth through the issuance of common stock and long-term debt, indicating confidence from investors and lenders. Overall, AnyCompany Financial's steady increase in cash and cash equivalents over the past three years provides a strong foundation for future growth and investment opportunities.</td>\n",
       "      <td id=\"T_92331_row4_col4\" class=\"data row4 col4\" >nan</td>\n",
       "      <td id=\"T_92331_row4_col5\" class=\"data row4 col5\" >nan</td>\n",
       "      <td id=\"T_92331_row4_col6\" class=\"data row4 col6\" >nan</td>\n",
       "      <td id=\"T_92331_row4_col7\" class=\"data row4 col7\" >0.200000</td>\n",
       "      <td id=\"T_92331_row4_col8\" class=\"data row4 col8\" >nan</td>\n",
       "      <td id=\"T_92331_row4_col9\" class=\"data row4 col9\" >0.856228</td>\n",
       "      <td id=\"T_92331_row4_col10\" class=\"data row4 col10\" >nan</td>\n",
       "      <td id=\"T_92331_row4_col11\" class=\"data row4 col11\" >0.000000</td>\n",
       "      <td id=\"T_92331_row4_col12\" class=\"data row4 col12\" >0.000000</td>\n",
       "      <td id=\"T_92331_row4_col13\" class=\"data row4 col13\" >1.000000</td>\n",
       "      <td id=\"T_92331_row4_col14\" class=\"data row4 col14\" >0.000000</td>\n",
       "      <td id=\"T_92331_row4_col15\" class=\"data row4 col15\" >1.000000</td>\n",
       "    </tr>\n",
       "  </tbody>\n",
       "</table>\n"
      ],
      "text/plain": [
       "<pandas.io.formats.style.Styler at 0x7f31d4553490>"
      ]
     },
     "execution_count": 9,
     "metadata": {},
     "output_type": "execute_result"
    }
   ],
   "source": [
    "import pandas as pd\n",
    "pd.options.display.max_colwidth = 10\n",
    "df.style.set_sticky(axis=\"columns\")"
   ]
  },
  {
   "cell_type": "markdown",
   "metadata": {},
   "source": [
    "9. Run the below code cell to export the resulting RAGAS scores in excel format:"
   ]
  },
  {
   "cell_type": "code",
   "execution_count": 11,
   "metadata": {},
   "outputs": [],
   "source": [
    "df.style.to_excel('styled.xlsx', engine='openpyxl')"
   ]
  },
  {
   "cell_type": "markdown",
   "metadata": {},
   "source": [
    "<i aria-hidden=\"true\" class=\"fas fa-sticky-note\" style=\"color:#563377\"></i> **Note:** After successfully running the above code cell, a file named *styled.xlsx* should be available for review in the left navigation pane under the **en_us** folder."
   ]
  },
  {
   "cell_type": "markdown",
   "metadata": {},
   "source": [
    "<i aria-hidden=\"true\" class=\"fas fa-sticky-note\" style=\"color:#563377\"></i> **Note:** Please note that the scores above gives a relative idea on the performance of your RAG application and should be used with caution and not as standalone scores. Also note, that you have used only 5 question/answer pairs for evaluation. As a best practice, you should use enough data to cover different aspects of your document for evaluating model.\n",
    "\n",
    "Based on the scores, you can review other components of your RAG workflow to further optimize the scores. Few recommended options are to review your chunking strategy, prompt instructions, adding more numberOfResults for additional context and so on. "
   ]
  },
  {
   "cell_type": "markdown",
   "metadata": {},
   "source": [
    "<i aria-hidden=\"true\" class=\"far fa-thumbs-up\" style=\"color:#008296\"></i> **Task complete:** You have completed this notebook. To move to the next part of the lab, do the following:\n",
    "\n",
    "- Close this notebook file.\n",
    "- Return to the lab session and continue with Task 5."
   ]
  }
 ],
 "metadata": {
  "availableInstances": [
   {
    "_defaultOrder": 0,
    "_isFastLaunch": true,
    "category": "General purpose",
    "gpuNum": 0,
    "hideHardwareSpecs": false,
    "memoryGiB": 4,
    "name": "ml.t3.medium",
    "vcpuNum": 2
   },
   {
    "_defaultOrder": 1,
    "_isFastLaunch": false,
    "category": "General purpose",
    "gpuNum": 0,
    "hideHardwareSpecs": false,
    "memoryGiB": 8,
    "name": "ml.t3.large",
    "vcpuNum": 2
   },
   {
    "_defaultOrder": 2,
    "_isFastLaunch": false,
    "category": "General purpose",
    "gpuNum": 0,
    "hideHardwareSpecs": false,
    "memoryGiB": 16,
    "name": "ml.t3.xlarge",
    "vcpuNum": 4
   },
   {
    "_defaultOrder": 3,
    "_isFastLaunch": false,
    "category": "General purpose",
    "gpuNum": 0,
    "hideHardwareSpecs": false,
    "memoryGiB": 32,
    "name": "ml.t3.2xlarge",
    "vcpuNum": 8
   },
   {
    "_defaultOrder": 4,
    "_isFastLaunch": true,
    "category": "General purpose",
    "gpuNum": 0,
    "hideHardwareSpecs": false,
    "memoryGiB": 8,
    "name": "ml.m5.large",
    "vcpuNum": 2
   },
   {
    "_defaultOrder": 5,
    "_isFastLaunch": false,
    "category": "General purpose",
    "gpuNum": 0,
    "hideHardwareSpecs": false,
    "memoryGiB": 16,
    "name": "ml.m5.xlarge",
    "vcpuNum": 4
   },
   {
    "_defaultOrder": 6,
    "_isFastLaunch": false,
    "category": "General purpose",
    "gpuNum": 0,
    "hideHardwareSpecs": false,
    "memoryGiB": 32,
    "name": "ml.m5.2xlarge",
    "vcpuNum": 8
   },
   {
    "_defaultOrder": 7,
    "_isFastLaunch": false,
    "category": "General purpose",
    "gpuNum": 0,
    "hideHardwareSpecs": false,
    "memoryGiB": 64,
    "name": "ml.m5.4xlarge",
    "vcpuNum": 16
   },
   {
    "_defaultOrder": 8,
    "_isFastLaunch": false,
    "category": "General purpose",
    "gpuNum": 0,
    "hideHardwareSpecs": false,
    "memoryGiB": 128,
    "name": "ml.m5.8xlarge",
    "vcpuNum": 32
   },
   {
    "_defaultOrder": 9,
    "_isFastLaunch": false,
    "category": "General purpose",
    "gpuNum": 0,
    "hideHardwareSpecs": false,
    "memoryGiB": 192,
    "name": "ml.m5.12xlarge",
    "vcpuNum": 48
   },
   {
    "_defaultOrder": 10,
    "_isFastLaunch": false,
    "category": "General purpose",
    "gpuNum": 0,
    "hideHardwareSpecs": false,
    "memoryGiB": 256,
    "name": "ml.m5.16xlarge",
    "vcpuNum": 64
   },
   {
    "_defaultOrder": 11,
    "_isFastLaunch": false,
    "category": "General purpose",
    "gpuNum": 0,
    "hideHardwareSpecs": false,
    "memoryGiB": 384,
    "name": "ml.m5.24xlarge",
    "vcpuNum": 96
   },
   {
    "_defaultOrder": 12,
    "_isFastLaunch": false,
    "category": "General purpose",
    "gpuNum": 0,
    "hideHardwareSpecs": false,
    "memoryGiB": 8,
    "name": "ml.m5d.large",
    "vcpuNum": 2
   },
   {
    "_defaultOrder": 13,
    "_isFastLaunch": false,
    "category": "General purpose",
    "gpuNum": 0,
    "hideHardwareSpecs": false,
    "memoryGiB": 16,
    "name": "ml.m5d.xlarge",
    "vcpuNum": 4
   },
   {
    "_defaultOrder": 14,
    "_isFastLaunch": false,
    "category": "General purpose",
    "gpuNum": 0,
    "hideHardwareSpecs": false,
    "memoryGiB": 32,
    "name": "ml.m5d.2xlarge",
    "vcpuNum": 8
   },
   {
    "_defaultOrder": 15,
    "_isFastLaunch": false,
    "category": "General purpose",
    "gpuNum": 0,
    "hideHardwareSpecs": false,
    "memoryGiB": 64,
    "name": "ml.m5d.4xlarge",
    "vcpuNum": 16
   },
   {
    "_defaultOrder": 16,
    "_isFastLaunch": false,
    "category": "General purpose",
    "gpuNum": 0,
    "hideHardwareSpecs": false,
    "memoryGiB": 128,
    "name": "ml.m5d.8xlarge",
    "vcpuNum": 32
   },
   {
    "_defaultOrder": 17,
    "_isFastLaunch": false,
    "category": "General purpose",
    "gpuNum": 0,
    "hideHardwareSpecs": false,
    "memoryGiB": 192,
    "name": "ml.m5d.12xlarge",
    "vcpuNum": 48
   },
   {
    "_defaultOrder": 18,
    "_isFastLaunch": false,
    "category": "General purpose",
    "gpuNum": 0,
    "hideHardwareSpecs": false,
    "memoryGiB": 256,
    "name": "ml.m5d.16xlarge",
    "vcpuNum": 64
   },
   {
    "_defaultOrder": 19,
    "_isFastLaunch": false,
    "category": "General purpose",
    "gpuNum": 0,
    "hideHardwareSpecs": false,
    "memoryGiB": 384,
    "name": "ml.m5d.24xlarge",
    "vcpuNum": 96
   },
   {
    "_defaultOrder": 20,
    "_isFastLaunch": false,
    "category": "General purpose",
    "gpuNum": 0,
    "hideHardwareSpecs": true,
    "memoryGiB": 0,
    "name": "ml.geospatial.interactive",
    "supportedImageNames": [
     "sagemaker-geospatial-v1-0"
    ],
    "vcpuNum": 0
   },
   {
    "_defaultOrder": 21,
    "_isFastLaunch": true,
    "category": "Compute optimized",
    "gpuNum": 0,
    "hideHardwareSpecs": false,
    "memoryGiB": 4,
    "name": "ml.c5.large",
    "vcpuNum": 2
   },
   {
    "_defaultOrder": 22,
    "_isFastLaunch": false,
    "category": "Compute optimized",
    "gpuNum": 0,
    "hideHardwareSpecs": false,
    "memoryGiB": 8,
    "name": "ml.c5.xlarge",
    "vcpuNum": 4
   },
   {
    "_defaultOrder": 23,
    "_isFastLaunch": false,
    "category": "Compute optimized",
    "gpuNum": 0,
    "hideHardwareSpecs": false,
    "memoryGiB": 16,
    "name": "ml.c5.2xlarge",
    "vcpuNum": 8
   },
   {
    "_defaultOrder": 24,
    "_isFastLaunch": false,
    "category": "Compute optimized",
    "gpuNum": 0,
    "hideHardwareSpecs": false,
    "memoryGiB": 32,
    "name": "ml.c5.4xlarge",
    "vcpuNum": 16
   },
   {
    "_defaultOrder": 25,
    "_isFastLaunch": false,
    "category": "Compute optimized",
    "gpuNum": 0,
    "hideHardwareSpecs": false,
    "memoryGiB": 72,
    "name": "ml.c5.9xlarge",
    "vcpuNum": 36
   },
   {
    "_defaultOrder": 26,
    "_isFastLaunch": false,
    "category": "Compute optimized",
    "gpuNum": 0,
    "hideHardwareSpecs": false,
    "memoryGiB": 96,
    "name": "ml.c5.12xlarge",
    "vcpuNum": 48
   },
   {
    "_defaultOrder": 27,
    "_isFastLaunch": false,
    "category": "Compute optimized",
    "gpuNum": 0,
    "hideHardwareSpecs": false,
    "memoryGiB": 144,
    "name": "ml.c5.18xlarge",
    "vcpuNum": 72
   },
   {
    "_defaultOrder": 28,
    "_isFastLaunch": false,
    "category": "Compute optimized",
    "gpuNum": 0,
    "hideHardwareSpecs": false,
    "memoryGiB": 192,
    "name": "ml.c5.24xlarge",
    "vcpuNum": 96
   },
   {
    "_defaultOrder": 29,
    "_isFastLaunch": true,
    "category": "Accelerated computing",
    "gpuNum": 1,
    "hideHardwareSpecs": false,
    "memoryGiB": 16,
    "name": "ml.g4dn.xlarge",
    "vcpuNum": 4
   },
   {
    "_defaultOrder": 30,
    "_isFastLaunch": false,
    "category": "Accelerated computing",
    "gpuNum": 1,
    "hideHardwareSpecs": false,
    "memoryGiB": 32,
    "name": "ml.g4dn.2xlarge",
    "vcpuNum": 8
   },
   {
    "_defaultOrder": 31,
    "_isFastLaunch": false,
    "category": "Accelerated computing",
    "gpuNum": 1,
    "hideHardwareSpecs": false,
    "memoryGiB": 64,
    "name": "ml.g4dn.4xlarge",
    "vcpuNum": 16
   },
   {
    "_defaultOrder": 32,
    "_isFastLaunch": false,
    "category": "Accelerated computing",
    "gpuNum": 1,
    "hideHardwareSpecs": false,
    "memoryGiB": 128,
    "name": "ml.g4dn.8xlarge",
    "vcpuNum": 32
   },
   {
    "_defaultOrder": 33,
    "_isFastLaunch": false,
    "category": "Accelerated computing",
    "gpuNum": 4,
    "hideHardwareSpecs": false,
    "memoryGiB": 192,
    "name": "ml.g4dn.12xlarge",
    "vcpuNum": 48
   },
   {
    "_defaultOrder": 34,
    "_isFastLaunch": false,
    "category": "Accelerated computing",
    "gpuNum": 1,
    "hideHardwareSpecs": false,
    "memoryGiB": 256,
    "name": "ml.g4dn.16xlarge",
    "vcpuNum": 64
   },
   {
    "_defaultOrder": 35,
    "_isFastLaunch": false,
    "category": "Accelerated computing",
    "gpuNum": 1,
    "hideHardwareSpecs": false,
    "memoryGiB": 61,
    "name": "ml.p3.2xlarge",
    "vcpuNum": 8
   },
   {
    "_defaultOrder": 36,
    "_isFastLaunch": false,
    "category": "Accelerated computing",
    "gpuNum": 4,
    "hideHardwareSpecs": false,
    "memoryGiB": 244,
    "name": "ml.p3.8xlarge",
    "vcpuNum": 32
   },
   {
    "_defaultOrder": 37,
    "_isFastLaunch": false,
    "category": "Accelerated computing",
    "gpuNum": 8,
    "hideHardwareSpecs": false,
    "memoryGiB": 488,
    "name": "ml.p3.16xlarge",
    "vcpuNum": 64
   },
   {
    "_defaultOrder": 38,
    "_isFastLaunch": false,
    "category": "Accelerated computing",
    "gpuNum": 8,
    "hideHardwareSpecs": false,
    "memoryGiB": 768,
    "name": "ml.p3dn.24xlarge",
    "vcpuNum": 96
   },
   {
    "_defaultOrder": 39,
    "_isFastLaunch": false,
    "category": "Memory Optimized",
    "gpuNum": 0,
    "hideHardwareSpecs": false,
    "memoryGiB": 16,
    "name": "ml.r5.large",
    "vcpuNum": 2
   },
   {
    "_defaultOrder": 40,
    "_isFastLaunch": false,
    "category": "Memory Optimized",
    "gpuNum": 0,
    "hideHardwareSpecs": false,
    "memoryGiB": 32,
    "name": "ml.r5.xlarge",
    "vcpuNum": 4
   },
   {
    "_defaultOrder": 41,
    "_isFastLaunch": false,
    "category": "Memory Optimized",
    "gpuNum": 0,
    "hideHardwareSpecs": false,
    "memoryGiB": 64,
    "name": "ml.r5.2xlarge",
    "vcpuNum": 8
   },
   {
    "_defaultOrder": 42,
    "_isFastLaunch": false,
    "category": "Memory Optimized",
    "gpuNum": 0,
    "hideHardwareSpecs": false,
    "memoryGiB": 128,
    "name": "ml.r5.4xlarge",
    "vcpuNum": 16
   },
   {
    "_defaultOrder": 43,
    "_isFastLaunch": false,
    "category": "Memory Optimized",
    "gpuNum": 0,
    "hideHardwareSpecs": false,
    "memoryGiB": 256,
    "name": "ml.r5.8xlarge",
    "vcpuNum": 32
   },
   {
    "_defaultOrder": 44,
    "_isFastLaunch": false,
    "category": "Memory Optimized",
    "gpuNum": 0,
    "hideHardwareSpecs": false,
    "memoryGiB": 384,
    "name": "ml.r5.12xlarge",
    "vcpuNum": 48
   },
   {
    "_defaultOrder": 45,
    "_isFastLaunch": false,
    "category": "Memory Optimized",
    "gpuNum": 0,
    "hideHardwareSpecs": false,
    "memoryGiB": 512,
    "name": "ml.r5.16xlarge",
    "vcpuNum": 64
   },
   {
    "_defaultOrder": 46,
    "_isFastLaunch": false,
    "category": "Memory Optimized",
    "gpuNum": 0,
    "hideHardwareSpecs": false,
    "memoryGiB": 768,
    "name": "ml.r5.24xlarge",
    "vcpuNum": 96
   },
   {
    "_defaultOrder": 47,
    "_isFastLaunch": false,
    "category": "Accelerated computing",
    "gpuNum": 1,
    "hideHardwareSpecs": false,
    "memoryGiB": 16,
    "name": "ml.g5.xlarge",
    "vcpuNum": 4
   },
   {
    "_defaultOrder": 48,
    "_isFastLaunch": false,
    "category": "Accelerated computing",
    "gpuNum": 1,
    "hideHardwareSpecs": false,
    "memoryGiB": 32,
    "name": "ml.g5.2xlarge",
    "vcpuNum": 8
   },
   {
    "_defaultOrder": 49,
    "_isFastLaunch": false,
    "category": "Accelerated computing",
    "gpuNum": 1,
    "hideHardwareSpecs": false,
    "memoryGiB": 64,
    "name": "ml.g5.4xlarge",
    "vcpuNum": 16
   },
   {
    "_defaultOrder": 50,
    "_isFastLaunch": false,
    "category": "Accelerated computing",
    "gpuNum": 1,
    "hideHardwareSpecs": false,
    "memoryGiB": 128,
    "name": "ml.g5.8xlarge",
    "vcpuNum": 32
   },
   {
    "_defaultOrder": 51,
    "_isFastLaunch": false,
    "category": "Accelerated computing",
    "gpuNum": 1,
    "hideHardwareSpecs": false,
    "memoryGiB": 256,
    "name": "ml.g5.16xlarge",
    "vcpuNum": 64
   },
   {
    "_defaultOrder": 52,
    "_isFastLaunch": false,
    "category": "Accelerated computing",
    "gpuNum": 4,
    "hideHardwareSpecs": false,
    "memoryGiB": 192,
    "name": "ml.g5.12xlarge",
    "vcpuNum": 48
   },
   {
    "_defaultOrder": 53,
    "_isFastLaunch": false,
    "category": "Accelerated computing",
    "gpuNum": 4,
    "hideHardwareSpecs": false,
    "memoryGiB": 384,
    "name": "ml.g5.24xlarge",
    "vcpuNum": 96
   },
   {
    "_defaultOrder": 54,
    "_isFastLaunch": false,
    "category": "Accelerated computing",
    "gpuNum": 8,
    "hideHardwareSpecs": false,
    "memoryGiB": 768,
    "name": "ml.g5.48xlarge",
    "vcpuNum": 192
   },
   {
    "_defaultOrder": 55,
    "_isFastLaunch": false,
    "category": "Accelerated computing",
    "gpuNum": 8,
    "hideHardwareSpecs": false,
    "memoryGiB": 1152,
    "name": "ml.p4d.24xlarge",
    "vcpuNum": 96
   },
   {
    "_defaultOrder": 56,
    "_isFastLaunch": false,
    "category": "Accelerated computing",
    "gpuNum": 8,
    "hideHardwareSpecs": false,
    "memoryGiB": 1152,
    "name": "ml.p4de.24xlarge",
    "vcpuNum": 96
   },
   {
    "_defaultOrder": 57,
    "_isFastLaunch": false,
    "category": "Accelerated computing",
    "gpuNum": 0,
    "hideHardwareSpecs": false,
    "memoryGiB": 32,
    "name": "ml.trn1.2xlarge",
    "vcpuNum": 8
   },
   {
    "_defaultOrder": 58,
    "_isFastLaunch": false,
    "category": "Accelerated computing",
    "gpuNum": 0,
    "hideHardwareSpecs": false,
    "memoryGiB": 512,
    "name": "ml.trn1.32xlarge",
    "vcpuNum": 128
   },
   {
    "_defaultOrder": 59,
    "_isFastLaunch": false,
    "category": "Accelerated computing",
    "gpuNum": 0,
    "hideHardwareSpecs": false,
    "memoryGiB": 512,
    "name": "ml.trn1n.32xlarge",
    "vcpuNum": 128
   }
  ],
  "instance_type": "ml.t3.medium",
  "kernelspec": {
   "display_name": "Python 3 (ipykernel)",
   "language": "python",
   "name": "python3"
  },
  "language_info": {
   "codemirror_mode": {
    "name": "ipython",
    "version": 3
   },
   "file_extension": ".py",
   "mimetype": "text/x-python",
   "name": "python",
   "nbconvert_exporter": "python",
   "pygments_lexer": "ipython3",
   "version": "3.11.9"
  }
 },
 "nbformat": 4,
 "nbformat_minor": 4
}
