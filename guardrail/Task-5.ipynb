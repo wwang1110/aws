{
 "cells": [
  {
   "cell_type": "markdown",
   "id": "f3d6294e-5c99-472d-b504-4b02822ddb03",
   "metadata": {},
   "source": [
    "# Task 5: Test the guardrail functionality on Amazon Bedrock Knowledge Base using RetrieveAndGenerate API\n",
    "\n",
    "In this task, you test the guardrail functionality on Amazon Bedrock Knowledge Base using RetrieveAndGenerate API. You utilize an existing knowledge base used with the previous notebooks, which is based on the AnyCompany Financial 10K document.\n",
    "\n",
    "<i aria-hidden=\"true\" class=\"fas fa-exclamation-circle\" style=\"color:#7C5AED\"></i> **Caution:** It is recommended to run each code cell individually rather than using the **Run All Cells** option from the **Run** menu. Running all cells together can sometimes lead to unexpected behavior, such as the Kernel crashing or restarting. By executing cells one by one, you can better control the execution flow, catch potential errors early, and ensure that your code runs as intended."
   ]
  },
  {
   "cell_type": "markdown",
   "id": "cc33f7e0-b824-473f-bbff-1bd05eaed0bb",
   "metadata": {},
   "source": [
    "## Task 5.1: Setup the environment\n",
    "\n",
    "In this task, you initialize the boto3 client to setup the environment for this notebook. Throughout the notebook, you utilize the *RetrieveAndGenerate* API to test the knowledge base features."
   ]
  },
  {
   "cell_type": "markdown",
   "id": "c803f934",
   "metadata": {},
   "source": [
    "1. Run the following code cell to initialize the boto3 client to setup your environment:"
   ]
  },
  {
   "cell_type": "code",
   "execution_count": 1,
   "id": "d4fc2f60-8aac-4518-932d-4ae1547e06b6",
   "metadata": {
    "tags": []
   },
   "outputs": [],
   "source": [
    "import json\n",
    "import boto3\n",
    "import pprint\n",
    "from botocore.exceptions import ClientError\n",
    "from botocore.client import Config\n",
    "\n",
    "# Create boto3 session\n",
    "sts_client = boto3.client('sts')\n",
    "boto3_session = boto3.session.Session()\n",
    "region_name = boto3_session.region_name\n",
    "\n",
    "client = boto3.client('bedrock')\n",
    "\n",
    "# Create bedrock agent client\n",
    "bedrock_config = Config(connect_timeout=120, read_timeout=120, retries={'max_attempts': 0}, region_name=region_name)\n",
    "bedrock_agent_client = boto3_session.client(\"bedrock-agent-runtime\",\n",
    "                              config=bedrock_config)\n",
    "\n",
    "# Define FM to be used for generations \n",
    "model_id = \"anthropic.claude-3-sonnet-20240229-v1:0\" # we will be using Anthropic Claude 3 Haiku throughout the notebook\n",
    "model_arn = f'arn:aws:bedrock:{region_name}::foundation-model/{model_id}'\n",
    "\n",
    "# Reset guardrail id and version\n",
    "guardrailId=\"\"\n",
    "guardrailVersion=\"\"\n",
    "guardrailName=\"fiduciary-advice\""
   ]
  },
  {
   "cell_type": "markdown",
   "id": "c91baf6e",
   "metadata": {},
   "source": [
    "To run this notebook you would need to verify and assign the Knowledge Base ID to the *kb_id* variable.\n",
    "\n",
    "2. Run the following code cell to verify the ID for the existing Knowledge Base in Amazon Bedrock:"
   ]
  },
  {
   "cell_type": "code",
   "execution_count": 2,
   "id": "ee0499ed-0df2-423b-8ddd-2ec059d2dc86",
   "metadata": {},
   "outputs": [
    {
     "name": "stdout",
     "output_type": "stream",
     "text": [
      "Knowledge Base ID: 8FGFT1BYEZ\n"
     ]
    }
   ],
   "source": [
    "import botocore\n",
    "\n",
    "session = boto3.Session()\n",
    "bedrock_client = session.client('bedrock-agent')\n",
    "\n",
    "try:\n",
    "    response = bedrock_client.list_knowledge_bases(\n",
    "        maxResults=1  # We only need to retrieve the first Knowledge Base\n",
    "    )\n",
    "    knowledge_base_summaries = response.get('knowledgeBaseSummaries', [])\n",
    "\n",
    "    if knowledge_base_summaries:\n",
    "        kb_id = knowledge_base_summaries[0]['knowledgeBaseId']\n",
    "        print(f\"Knowledge Base ID: {kb_id}\")\n",
    "    else:\n",
    "        print(\"No Knowledge Base summaries found.\")\n",
    "        \n",
    "except botocore.exceptions.ClientError as e:\n",
    "    print(f\"Error: {e}\")"
   ]
  },
  {
   "cell_type": "markdown",
   "id": "9eb81640-45aa-4bc2-9bbc-d01a795a52c5",
   "metadata": {},
   "source": [
    "## Task 5.2: Create a guardrail\n",
    "\n",
    "In this task, you test if a guardrail with guardrailName already exists. If one doesn't exists, you create a guardrail with that name. Otherwise, you capture the guardrail id and the guardrail version for an existing guardrail."
   ]
  },
  {
   "cell_type": "markdown",
   "id": "7b218568",
   "metadata": {},
   "source": [
    "3. Run the following two code cell to test for an exiting guardrail and create a new one if one doesn't exist:"
   ]
  },
  {
   "cell_type": "code",
   "execution_count": 3,
   "id": "c345b326-2ffb-4937-b5b6-2b42864f4039",
   "metadata": {},
   "outputs": [],
   "source": [
    "list_guardrails_response = client.list_guardrails(maxResults=10)\n",
    "for guardrail_data in list_guardrails_response[\"guardrails\"]:\n",
    "    if guardrail_data[\"name\"] == guardrailName:\n",
    "        guardrailId=guardrail_data[\"id\"]\n",
    "        guardrailVersion=guardrail_data[\"version\"]"
   ]
  },
  {
   "cell_type": "code",
   "execution_count": 4,
   "id": "555dac9b-f33b-412d-aec3-ef586d2fcdd8",
   "metadata": {
    "tags": []
   },
   "outputs": [
    {
     "name": "stdout",
     "output_type": "stream",
     "text": [
      "Created new guardrail fiduciary-advice\n"
     ]
    }
   ],
   "source": [
    "if guardrailId == \"\":\n",
    "    create_response = client.create_guardrail(\n",
    "        name=guardrailName,\n",
    "        description='Prevents the our model from providing fiduciary advice.',\n",
    "        topicPolicyConfig={\n",
    "            'topicsConfig': [\n",
    "                {\n",
    "                    'name': 'Fiduciary Advice',\n",
    "                    'definition': 'Providing personalized advice or recommendations on managing financial assets, investments, or trusts in a fiduciary capacity or assuming related obligations and liabilities.',\n",
    "                    'examples': [\n",
    "                    'What stocks should I invest in for my retirement?',\n",
    "                    'Is it a good idea to put my money in a mutual fund?',\n",
    "                    'How should I allocate my 401(k) investments?',\n",
    "                    'What type of trust fund should I set up for my children?',\n",
    "                    'Should I hire a financial advisor to manage my investments?'\n",
    "                    ],\n",
    "                    'type': 'DENY'\n",
    "                }\n",
    "            ]\n",
    "        },\n",
    "        contentPolicyConfig={\n",
    "        'filtersConfig': [\n",
    "            {\n",
    "                'type': 'SEXUAL',\n",
    "                'inputStrength': 'HIGH',\n",
    "                'outputStrength': 'HIGH'\n",
    "            },\n",
    "            {\n",
    "                'type': 'VIOLENCE',\n",
    "                'inputStrength': 'HIGH',\n",
    "                'outputStrength': 'HIGH'\n",
    "            },\n",
    "            {\n",
    "                'type': 'HATE',\n",
    "                'inputStrength': 'HIGH',\n",
    "                'outputStrength': 'HIGH'\n",
    "            },\n",
    "            {\n",
    "                'type': 'INSULTS',\n",
    "                'inputStrength': 'HIGH',\n",
    "                'outputStrength': 'HIGH'\n",
    "            },\n",
    "            {\n",
    "                'type': 'MISCONDUCT',\n",
    "                'inputStrength': 'HIGH',\n",
    "                'outputStrength': 'HIGH'\n",
    "            },\n",
    "            {\n",
    "                'type': 'PROMPT_ATTACK',\n",
    "                'inputStrength': 'HIGH',\n",
    "                'outputStrength': 'NONE'\n",
    "            }\n",
    "        ]\n",
    "        },\n",
    "        wordPolicyConfig={\n",
    "        'wordsConfig': [\n",
    "            {'text': 'fiduciary advice'},\n",
    "            {'text': 'investment recommendations'},\n",
    "            {'text': 'stock picks'},\n",
    "            {'text': 'financial planning guidance'},\n",
    "            {'text': 'portfolio allocation advice'},\n",
    "            {'text': 'retirement fund suggestions'},\n",
    "            {'text': 'wealth management tips'},\n",
    "            {'text': 'trust fund setup'},\n",
    "            {'text': 'investment strategy'},\n",
    "            {'text': 'financial advisor recommendations'}\n",
    "        ],\n",
    "        'managedWordListsConfig': [\n",
    "            {'type': 'PROFANITY'}\n",
    "        ]\n",
    "        },\n",
    "        sensitiveInformationPolicyConfig={\n",
    "        'piiEntitiesConfig': [\n",
    "            {'type': 'EMAIL', 'action': 'ANONYMIZE'},\n",
    "            {'type': 'PHONE', 'action': 'ANONYMIZE'},\n",
    "            {'type': 'NAME', 'action': 'ANONYMIZE'},\n",
    "            {'type': 'US_SOCIAL_SECURITY_NUMBER', 'action': 'BLOCK'},\n",
    "            {'type': 'US_BANK_ACCOUNT_NUMBER', 'action': 'BLOCK'},\n",
    "            {'type': 'CREDIT_DEBIT_CARD_NUMBER', 'action': 'BLOCK'}\n",
    "        ],\n",
    "        'regexesConfig': [\n",
    "            {\n",
    "                'name': 'Account Number',\n",
    "                'description': 'Matches account numbers in the format XXXXXX1234',\n",
    "                'pattern': r'\\b\\d{6}\\d{4}\\b',\n",
    "                'action': 'ANONYMIZE'\n",
    "            }\n",
    "        ]\n",
    "        },\n",
    "        contextualGroundingPolicyConfig={\n",
    "        'filtersConfig': [\n",
    "            {\n",
    "                'type': 'GROUNDING',\n",
    "                'threshold': 0.75\n",
    "            },\n",
    "            {\n",
    "                'type': 'RELEVANCE',\n",
    "                'threshold': 0.75\n",
    "            }\n",
    "        ]\n",
    "        },\n",
    "        blockedInputMessaging=\"\"\"I can provide general info about AnyCompany Financial's products and services, but can't fully address your request here. For personalized help or detailed questions, please contact our customer service team directly. For security reasons, avoid sharing sensitive information through this channel. If you have a general product question, feel free to ask without including personal details. \"\"\",\n",
    "        blockedOutputsMessaging=\"\"\"I can provide general info about AnyCompany Financial's products and services, but can't fully address your request here. For personalized help or detailed questions, please contact our customer service team directly. For security reasons, avoid sharing sensitive information through this channel. If you have a general product question, feel free to ask without including personal details. \"\"\",\n",
    "        tags=[\n",
    "            {'key': 'purpose', 'value': 'fiduciary-advice-prevention'},\n",
    "            {'key': 'environment', 'value': 'production'}\n",
    "        ]\n",
    "    )\n",
    "\n",
    "    guardrailId=create_response[\"guardrailId\"]\n",
    "    guardrailVersion=create_response[\"version\"]\n",
    "    print(\"Created new guardrail \"+guardrailName)\n"
   ]
  },
  {
   "cell_type": "markdown",
   "id": "7a567363-4028-4b05-b527-234564de1dff",
   "metadata": {},
   "source": [
    "## Task 5.3: Test the guardrail\n",
    "\n",
    "In this task, you test the guardrail using the *[retrieve_and_generate](https://boto3.amazonaws.com/v1/documentation/api/latest/reference/services/bedrock-agent-runtime/client/retrieve_and_generate.html)* function.\n",
    "\n",
    "### Testing guardrail with RetrieveAndGenerate API\n",
    "\n",
    "In this task, you test the knowledge base using the *RetrieveAndGenerate* API. With this API, Bedrock takes care of retrieving the necessary references from the knowledge base and generating the final answer using a foundation model from Bedrock.\n",
    "\n",
    "query = *Based on the financial health of AnyCompany, can I buy shares of AnyCompany Financial?*\n",
    "\n",
    "Without the guardrail, the foundation model provides an answer. When you include the guardrail, the model refrains from providing financial advice."
   ]
  },
  {
   "cell_type": "markdown",
   "id": "e06babfb",
   "metadata": {},
   "source": [
    "4. Run the following code cell to initiate a query:"
   ]
  },
  {
   "cell_type": "code",
   "execution_count": 5,
   "id": "1e7bde3d-d3c8-4bdd-ab94-6a53695443c6",
   "metadata": {},
   "outputs": [],
   "source": [
    "query = \"Based on the financial health of AnyCompany, will you recommend I buy shares of AnyCompany Financial?\""
   ]
  },
  {
   "cell_type": "markdown",
   "id": "7716f2ad-1d4d-4eba-8e90-365b1f6cd85f",
   "metadata": {},
   "source": [
    "5. Run the following code cell to create two separate configurations; one without the guardrail and one with the guardrail:"
   ]
  },
  {
   "cell_type": "code",
   "execution_count": 6,
   "id": "ed2816ff-94a1-4712-91f4-36ec4b2eae68",
   "metadata": {},
   "outputs": [],
   "source": [
    "retrieveAndGenerateConfiguration_with_guardrail={\n",
    "        \"type\": \"KNOWLEDGE_BASE\",\n",
    "        \"knowledgeBaseConfiguration\": {\n",
    "            'knowledgeBaseId': kb_id,\n",
    "            \"modelArn\": model_arn,\n",
    "            \"retrievalConfiguration\": {\n",
    "                \"vectorSearchConfiguration\": {\n",
    "                    \"numberOfResults\":3\n",
    "                }\n",
    "            },\n",
    "            \"generationConfiguration\": { \n",
    "                \"guardrailConfiguration\": { \n",
    "                   \"guardrailId\": guardrailId,\n",
    "                   \"guardrailVersion\": guardrailVersion\n",
    "                }\n",
    "            }\n",
    "        }\n",
    "    }\n",
    "\n",
    "retrieveAndGenerateConfiguration_no_guardrail={\n",
    "        \"type\": \"KNOWLEDGE_BASE\",\n",
    "        \"knowledgeBaseConfiguration\": {\n",
    "            'knowledgeBaseId': kb_id,\n",
    "            \"modelArn\": model_arn,\n",
    "            \"retrievalConfiguration\": {\n",
    "                \"vectorSearchConfiguration\": {\n",
    "                    \"numberOfResults\":3\n",
    "                } \n",
    "            },\n",
    " \n",
    "        }\n",
    "    }"
   ]
  },
  {
   "cell_type": "markdown",
   "id": "b6189f2a",
   "metadata": {},
   "source": [
    "6. Run the following code cell to define the *get_retrieve_and_generate_response* function:"
   ]
  },
  {
   "cell_type": "code",
   "execution_count": 7,
   "id": "c65d9f28-c639-4af1-956c-81c9cf5cb902",
   "metadata": {},
   "outputs": [],
   "source": [
    "def get_retrieve_and_generate_response(guarded=False):\n",
    "    response = bedrock_agent_client.retrieve_and_generate(\n",
    "        input={\"text\": query},\n",
    "        retrieveAndGenerateConfiguration=\n",
    "            (retrieveAndGenerateConfiguration_with_guardrail if guarded else retrieveAndGenerateConfiguration_no_guardrail)\n",
    "    )\n",
    "    return response"
   ]
  },
  {
   "cell_type": "markdown",
   "id": "5dee28ca-f492-4801-999e-97b4bbcd79ab",
   "metadata": {},
   "source": [
    "7. Run the following code cell and ask the model to respond without the guardrail and you can see that the model provides an investment advice:"
   ]
  },
  {
   "cell_type": "code",
   "execution_count": 8,
   "id": "ab16ad2f-1890-41f7-bd94-fd94b31b0d5b",
   "metadata": {},
   "outputs": [
    {
     "name": "stdout",
     "output_type": "stream",
     "text": [
      "Based on the information provided, AnyCompany Financial appears to be in a strong financial position with robust revenue growth, solid net income, and a strong cash position. The company reported revenues of $2.5 billion in 2021, representing a 15% increase over the previous year, and net income of $500 million, up from $400 million in 2020. It also has $1 billion in cash and cash equivalents on its balance sheet. However, the search results do not provide enough information to make a definitive recommendation on whether to buy shares of AnyCompany Financial. While the company's financial performance appears strong, there are other factors to consider such as market risks, competition, management quality, and growth prospects that are not covered in the provided information. An investment decision should be based on a comprehensive analysis of the company, industry, and overall market conditions.\n",
      "\n"
     ]
    }
   ],
   "source": [
    "response=get_retrieve_and_generate_response(guarded=False)\n",
    "print(response['output']['text'],end='\\n'*2)"
   ]
  },
  {
   "cell_type": "markdown",
   "id": "14cb6ddc-f79a-4356-b29b-7814bfafd473",
   "metadata": {},
   "source": [
    "8. Run the following code cell and ask the model to respond with the guardrail. After invoking the guardrail, the model refuses to provide any financial advice:"
   ]
  },
  {
   "cell_type": "code",
   "execution_count": 9,
   "id": "90dbefe7-e518-4b48-a1a8-aa55d5c7d31f",
   "metadata": {},
   "outputs": [
    {
     "name": "stdout",
     "output_type": "stream",
     "text": [
      "I can provide general info about AnyCompany Financial's products and services, but can't fully address your request here. For personalized help or detailed questions, please contact our customer service team directly. For security reasons, avoid sharing sensitive information through this channel. If you have a general product question, feel free to ask without including personal details. \n",
      "\n"
     ]
    }
   ],
   "source": [
    "response=get_retrieve_and_generate_response(guarded=True)\n",
    "print(response['output']['text'],end='\\n'*2)"
   ]
  },
  {
   "cell_type": "markdown",
   "id": "fc8af231-c20b-4fd2-9ea5-2ae172106127",
   "metadata": {},
   "source": [
    "9. Run the following two code cells that enables trace to see guardrail in action for a query that asks: *Should I invest in AnyCompany Financial?*"
   ]
  },
  {
   "cell_type": "code",
   "execution_count": 10,
   "id": "2fd88e2f-88d2-4154-9265-311d7fc9cd19",
   "metadata": {},
   "outputs": [],
   "source": [
    "#import the run-time client\n",
    "import json\n",
    "bedrock_runtime = boto3.client('bedrock-runtime')"
   ]
  },
  {
   "cell_type": "code",
   "execution_count": 11,
   "id": "97c7a51e-5f38-4243-a462-5e1589b08116",
   "metadata": {
    "tags": []
   },
   "outputs": [
    {
     "name": "stdout",
     "output_type": "stream",
     "text": [
      "{\n",
      "  \"type\": \"message\",\n",
      "  \"role\": \"assistant\",\n",
      "  \"content\": [\n",
      "    {\n",
      "      \"type\": \"text\",\n",
      "      \"text\": \"I can provide general info about AnyCompany Financial's products and services, but can't fully address your request here. For personalized help or detailed questions, please contact our customer service team directly. For security reasons, avoid sharing sensitive information through this channel. If you have a general product question, feel free to ask without including personal details. \"\n",
      "    }\n",
      "  ],\n",
      "  \"amazon-bedrock-trace\": {\n",
      "    \"guardrail\": {\n",
      "      \"input\": {\n",
      "        \"p6v0vfy7jrlv\": {\n",
      "          \"topicPolicy\": {\n",
      "            \"topics\": [\n",
      "              {\n",
      "                \"name\": \"Fiduciary Advice\",\n",
      "                \"type\": \"DENY\",\n",
      "                \"action\": \"BLOCKED\"\n",
      "              }\n",
      "            ]\n",
      "          },\n",
      "          \"invocationMetrics\": {\n",
      "            \"guardrailProcessingLatency\": 185,\n",
      "            \"usage\": {\n",
      "              \"topicPolicyUnits\": 1,\n",
      "              \"contentPolicyUnits\": 1,\n",
      "              \"wordPolicyUnits\": 1,\n",
      "              \"sensitiveInformationPolicyUnits\": 1,\n",
      "              \"sensitiveInformationPolicyFreeUnits\": 0,\n",
      "              \"contextualGroundingPolicyUnits\": 0\n",
      "            },\n",
      "            \"guardrailCoverage\": {\n",
      "              \"textCharacters\": {\n",
      "                \"guarded\": 40,\n",
      "                \"total\": 40\n",
      "              }\n",
      "            }\n",
      "          }\n",
      "        }\n",
      "      }\n",
      "    }\n",
      "  },\n",
      "  \"amazon-bedrock-guardrailAction\": \"INTERVENED\"\n",
      "}\n"
     ]
    }
   ],
   "source": [
    "# We will send our request to Bedrock using our existing guardrail\n",
    "\n",
    "payload = {\n",
    "    \"modelId\": \"anthropic.claude-3-sonnet-20240229-v1:0\",\n",
    "    \"contentType\": \"application/json\",\n",
    "    \"accept\": \"application/json\",\n",
    "    \"body\": {\n",
    "        \"anthropic_version\": \"bedrock-2023-05-31\",\n",
    "        \"max_tokens\": 1000,\n",
    "        \"messages\": [\n",
    "            {\n",
    "                \"role\": \"user\",\n",
    "                \"content\": [\n",
    "                    {\n",
    "                        \"type\": \"text\",\n",
    "                        \"text\": \"Should I invest in AnyCompany Financial?\"\n",
    "                    }\n",
    "                ]\n",
    "            }\n",
    "        ]\n",
    "    }\n",
    "}\n",
    "\n",
    "# Convert the payload to bytes\n",
    "body_bytes = json.dumps(payload['body']).encode('utf-8')\n",
    "\n",
    "# Invoke the model\n",
    "response = bedrock_runtime.invoke_model(\n",
    "    body = body_bytes,\n",
    "    contentType = payload['contentType'],\n",
    "    accept = payload['accept'],\n",
    "    modelId = payload['modelId'],\n",
    "    guardrailIdentifier = guardrailId, \n",
    "    guardrailVersion = guardrailVersion, \n",
    "    trace = \"ENABLED\"\n",
    ")\n",
    "\n",
    "# Print the response\n",
    "response_body = response['body'].read().decode('utf-8')\n",
    "print(json.dumps(json.loads(response_body), indent=2))"
   ]
  },
  {
   "cell_type": "markdown",
   "id": "ef1f24ce",
   "metadata": {},
   "source": [
    "The trace output shows how the model responded, but that response didn't make it all the way to user. Guardrail intervened and sent the canned output message. You can also see the policy that was violated."
   ]
  },
  {
   "cell_type": "markdown",
   "id": "c58ba7c2",
   "metadata": {},
   "source": [
    "<i aria-hidden=\"true\" class=\"far fa-thumbs-up\" style=\"color:#008296\"></i> **Task complete:** You have completed this notebook. To move to the next part of the lab, do the following:\n",
    "\n",
    "- Close this notebook file.\n",
    "- Return to the lab session and continue with the **Knowledge check**."
   ]
  }
 ],
 "metadata": {
  "kernelspec": {
   "display_name": "Python 3 (ipykernel)",
   "language": "python",
   "name": "python3"
  },
  "language_info": {
   "codemirror_mode": {
    "name": "ipython",
    "version": 3
   },
   "file_extension": ".py",
   "mimetype": "text/x-python",
   "name": "python",
   "nbconvert_exporter": "python",
   "pygments_lexer": "ipython3",
   "version": "3.11.9"
  }
 },
 "nbformat": 4,
 "nbformat_minor": 5
}
